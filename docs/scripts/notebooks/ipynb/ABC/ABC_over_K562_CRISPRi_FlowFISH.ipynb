{
 "cells": [
  {
   "cell_type": "markdown",
   "metadata": {},
   "source": [
    "# ABC model over Fulco et al 's CRISPRi-FlowFISH validation dataset for K562"
   ]
  },
  {
   "cell_type": "markdown",
   "metadata": {},
   "source": [
    "## How to use this notebook?\n",
    "First, make a copy of [this notebook](http://genoweb.toulouse.inra.fr/~thoellinger/stable/ipynb/ABC/BENGI_GM12878_from_ccRE_ELSs.ipynb) on your computer / cluster.\n",
    "\n",
    "Then, to use this notebook, one should only have to carefully modify the content of the \"Set working directory\" section, then to execute the notebook cell by cell, in the correct order. After execution of each cell, remember to check for errors before executing the next one."
   ]
  },
  {
   "cell_type": "markdown",
   "metadata": {},
   "source": [
    "One can use the following to switch notebook theme:"
   ]
  },
  {
   "cell_type": "code",
   "execution_count": 1,
   "metadata": {},
   "outputs": [],
   "source": [
    "# night theme\n",
    "#!jt -t monokai -f fira -fs 10 -nf ptsans -nfs 11 -N -kl -cursw 2 -cursc r -cellw 95% -T"
   ]
  },
  {
   "cell_type": "code",
   "execution_count": 2,
   "metadata": {},
   "outputs": [],
   "source": [
    "# standard theme\n",
    "#!jt -r"
   ]
  },
  {
   "cell_type": "markdown",
   "metadata": {},
   "source": [
    "## Import required librairies"
   ]
  },
  {
   "cell_type": "code",
   "execution_count": 3,
   "metadata": {},
   "outputs": [],
   "source": [
    "import os.path #Or see https://stackoverflow.com/a/82852 for an object-oriented approach\n",
    "from IPython.core.magic import register_line_cell_magic"
   ]
  },
  {
   "cell_type": "code",
   "execution_count": 4,
   "metadata": {},
   "outputs": [],
   "source": [
    "@register_line_cell_magic\n",
    "def writetemplate(line, cell):\n",
    "    with open(line, 'w') as f:\n",
    "        f.write(cell.format(**globals()))"
   ]
  },
  {
   "cell_type": "markdown",
   "metadata": {},
   "source": [
    "## Set working directory"
   ]
  },
  {
   "cell_type": "code",
   "execution_count": 5,
   "metadata": {},
   "outputs": [],
   "source": [
    "mail_user = \"tristan.hoellinger@inserm.fr\" # slurm notifications\n",
    "version = \"hg19\" # used only in the current cell to compute some paths \n",
    "cell_type = \"k562\" # used all along the notebook\n",
    "specie = \"homo_sapiens/\"+version+\"/\" # used only in the current cell to compute some paths \n",
    "\n",
    "# Where to store run-specific references, scripts, intermediate files, predictions, etc\n",
    "work_dir = \"/work2/project/regenet/workspace/thoellinger/ABC-Enhancer-Gene-Prediction/CRISPRi_FlowFISH_K562/\"\n",
    "\n",
    "scripts = work_dir+\"hi_slurm/\" # where to store scripts specific to this run\n",
    "results_dir = \"/work2/project/regenet/results/\" # used to compute paths where data for this cell type is\n",
    "                                                # stored / will be downloaded\n",
    "dnase_dir = results_dir+\"dnaseseq/\"+specie+cell_type+'/'\n",
    "chipseq_dir = results_dir+\"chipseq/h3k27ac/\"+specie+cell_type+'/'\n",
    "expression_dir = results_dir+\"rnaseq/\"+specie+cell_type+'/'\n",
    "\n",
    "# /work2/project/regenet/results/multi/homo_sapiens/hg19/hg19-blacklist.v2.bed\n",
    "#blacklist_dir = results_dir+\"multi/\"+specie # where the ENCODE blacklist is (going to be) stored\n",
    "#blacklist = blacklist_dir+version+\"-blacklist.v2.bed.gz\" # need not exist yet\n",
    "\n",
    "# Gene annotation in the gtf format and gene name / gene id table (1st column id, 2nd column name)\n",
    "gene_annotation = \"/work2/project/fragencode/data/species.bk/homo_sapiens/hg19.gencv19/homo_sapiens.gtf\"\n",
    "gnid_gname = \"/work2/project/fragencode/data/species.bk/homo_sapiens/hg19.gencv19/homo_sapiens.gnid.gnname.tsv\"\n",
    "\n",
    "# Accessions for the current run. Just put accession numbers here, no need to download these accessions \"by hand\".\n",
    "dnase_rep1 = \"ENCFF156LGK\" # exp ENCSR000EOT\n",
    "dnase_rep2 = \"ENCFF134DLD\" # exp ENCSR000EOT\n",
    "h3k27_rep1 = \"ENCFF301TVL\" # exp ENCSR000AKP\n",
    "h3k27_rep2 = \"ENCFF879BWC\" # exp ENCSR000AKP\n",
    "rnaseq_rep1 = \"ENCFF172GIN\" # exp ENCSR000CPH\n",
    "rnaseq_rep2 = \"ENCFF768TKT\" # exp ENCSR000CPH\n",
    "\n",
    "# Where to download the blacklist. Will not be used unless blacklist not found.\n",
    "#blacklist_link = \"https://github.com/Boyle-Lab/Blacklist/raw/master/lists/hg19-blacklist.v2.bed.gz\"\n",
    "\n",
    "dnase_file_rep1 = dnase_dir+dnase_rep1+\".bam\" # you shall not change this\n",
    "dnase_file_rep2 = dnase_dir+dnase_rep2+\".bam\"  # you shall not change this\n",
    "h3k27_file_rep1 = chipseq_dir+h3k27_rep1+\".bam\"  # you shall not change this\n",
    "h3k27_file_rep2 = chipseq_dir+h3k27_rep2+\".bam\"  # you shall not change this\n",
    "rnaseq_file_rep1 = expression_dir+rnaseq_rep1+\".tsv\"  # you shall not change this\n",
    "rnaseq_file_rep2 = expression_dir+rnaseq_rep2+\".tsv\"  # you shall not change this\n",
    "\n",
    "reference_dir = work_dir+\"reference/\" # you shall not change this\n",
    "annotations_dir = reference_dir+\"gene_annotation/\" # you shall not change this\n",
    "peaks = work_dir+\"ABC_output/Peaks/\" # you shall not change this\n",
    "neighborhoods = work_dir+\"ABC_output/Neighborhoods/\" # you shall not change this\n",
    "predictions = work_dir+\"ABC_output/Predictions/\" # you shall not change this\n",
    "\n",
    "light_annotation = annotations_dir+\"gene_ids.bed\" # you shall not change this\n",
    "\n",
    "# Ubiquitously expressed genes (ubiquitous_gene_names). If provided, `ubiquitously_expressed_genes` will be\n",
    "# automatically generated with gene ids instead of gene names. If not (left empty), \n",
    "# `ubiquitously_expressed_genes` must be provided.\n",
    "ubiquitous_gene_names = work_dir+\"../reference/UbiquitouslyExpressedGenesHG19.txt\"\n",
    "# Ubiquitously expressed genes (gene ids). Please provide either `ubiquitously_expressed_genes` or\n",
    "# `ubiquitous_gene_names`\n",
    "ubiquitously_expressed_genes = reference_dir+\"UbiquitouslyExpressedGenes_ids.txt\" # need not exist\n",
    "\n",
    "compute_mean_expression = work_dir+\"../compute_mean_expression.awk\"\n",
    "# compute_mean_expression.awk computes an expression table (<gene id> <expression>) taking the mean\n",
    "# TPM expression found in the 2 input polyA+ RNA-seq tsv.\n",
    "\n",
    "make_candidate_regions = work_dir+\"../src/makeCandidateRegions.py\"\n",
    "run_neighborhoods = work_dir+\"../src/run.neighborhoods.py\"\n",
    "predict = work_dir+\"../src/predict.py\"\n",
    "\n",
    "genome_file = reference_dir+\"chr_sizes\" # shall not exist yet\n",
    "\n",
    "gene_expression_table = reference_dir+\"expression/\"+cell_type+\".\"+rnaseq_rep1+\"_\"+rnaseq_rep2+\".mean.TPM.txt\""
   ]
  },
  {
   "cell_type": "code",
   "execution_count": 6,
   "metadata": {},
   "outputs": [],
   "source": [
    "if not os.path.isdir(reference_dir):\n",
    "    !mkdir $reference_dir\n",
    "if not os.path.isdir(scripts):\n",
    "    !mkdir $scripts"
   ]
  },
  {
   "cell_type": "code",
   "execution_count": 7,
   "metadata": {},
   "outputs": [],
   "source": [
    "# One may only change what is between quotes here\n",
    "slurm_2 = scripts+\"step2.sh\"\n",
    "slurm_3 = scripts+\"step3.sh\""
   ]
  },
  {
   "cell_type": "code",
   "execution_count": 22,
   "metadata": {},
   "outputs": [],
   "source": [
    "CRiFF_dir = \"/work2/project/regenet/workspace/thoellinger/CRISPRi_FlowFISH/k562/\"\n",
    "all_criff = CRiFF_dir+\"3863.fulco.bedpe.sorted\"\n",
    "\n",
    "candidateRegions = reference_dir+\"candidateRegions.bed\""
   ]
  },
  {
   "cell_type": "markdown",
   "metadata": {},
   "source": [
    "## Data acquisition"
   ]
  },
  {
   "cell_type": "markdown",
   "metadata": {},
   "source": [
    "### Chromatin accessibility (DNase-seq)"
   ]
  },
  {
   "cell_type": "code",
   "execution_count": 9,
   "metadata": {
    "scrolled": true
   },
   "outputs": [],
   "source": [
    "if not os.path.isfile(dnase_file_rep1):\n",
    "    !wget https://www.encodeproject.org/files/$dnase_rep1/@@download/$dnase_rep1$\".bam\" -P $dnase_dir\n",
    "            \n",
    "if not os.path.isfile(dnase_file_rep2):\n",
    "    !wget https://www.encodeproject.org/files/$dnase_rep2/@@download/$dnase_rep2$\".bam\" -P $dnase_dir"
   ]
  },
  {
   "cell_type": "markdown",
   "metadata": {},
   "source": [
    "### Histone mark H3K27ac ChIP-seq"
   ]
  },
  {
   "cell_type": "code",
   "execution_count": 13,
   "metadata": {
    "scrolled": true
   },
   "outputs": [],
   "source": [
    "if not os.path.isfile(h3k27_file_rep1):\n",
    "    !wget https://www.encodeproject.org/files/$h3k27_rep1/@@download/$h3k27_rep1$\".bam\" -P $chipseq_dir\n",
    "            \n",
    "if not os.path.isfile(h3k27_file_rep2):\n",
    "    !wget https://www.encodeproject.org/files/$h3k27_rep2/@@download/$h3k27_rep2$\".bam\" -P $chipseq_dir"
   ]
  },
  {
   "cell_type": "markdown",
   "metadata": {},
   "source": [
    "### Gene expression (polyA+ RNA-seq)"
   ]
  },
  {
   "cell_type": "code",
   "execution_count": 14,
   "metadata": {},
   "outputs": [],
   "source": [
    "if not os.path.isfile(rnaseq_file_rep1):\n",
    "    !wget https://www.encodeproject.org/files/$rnaseq_rep1/@@download/$rnaseq_file_rep1 -P $expression_dir\n",
    "            \n",
    "if not os.path.isfile(rnaseq_file_rep2):\n",
    "    !wget https://www.encodeproject.org/files/$rnaseq_rep2/@@download/$rnaseq_file_rep2 -P $expression_dir"
   ]
  },
  {
   "cell_type": "markdown",
   "metadata": {},
   "source": [
    "### Ubiquitously expressed genes"
   ]
  },
  {
   "cell_type": "code",
   "execution_count": 15,
   "metadata": {},
   "outputs": [],
   "source": [
    "%%bash -s \"$gnid_gname\" \"$ubiquitous_gene_names\" \"$ubiquitously_expressed_genes\"\n",
    "if [[ -f $2 ]] && [[ ! -f $3 ]]; then\n",
    "    awk 'BEGIN{sep=\"\\t\"} NR==FNR {id[$2]=$1; next} id[$1] {print id[$1]}' $1 $2 > $3\n",
    "fi"
   ]
  },
  {
   "cell_type": "markdown",
   "metadata": {},
   "source": [
    "### Genome file"
   ]
  },
  {
   "cell_type": "code",
   "execution_count": 17,
   "metadata": {},
   "outputs": [],
   "source": [
    "%%bash -s \"$work_dir\" \"$dnase_file_rep1\" \"$genome_file\"\n",
    "if [[ ! -f $3\".bed\" ]]; then\n",
    "    CONDA_BASE=$(conda info --base) && source $CONDA_BASE/etc/profile.d/conda.sh\n",
    "    conda activate base && module load bioinfo/samtools-1.9\n",
    "    samtools view -H $2 | grep SQ | cut -f 2,3 |cut -c 4- |awk 'BEGIN{FS=\"\\t\"} {split($2,locus,\":\"); if($1 ~ /^(chr)([0-9]{1,2}$)|(M$)|(X$)|(Y$)/){print($1\"\\t\"locus[2])}}' > $3\n",
    "    awk '{print $1\"\\t\"0\"\\t\"$2}' $3 > $3\".bed\"\n",
    "fi"
   ]
  },
  {
   "cell_type": "markdown",
   "metadata": {},
   "source": [
    "## Data reprocessing\n",
    "\n",
    "### Create expression table\n",
    "\n",
    "We use `compute_mean_expression.awk` to take as the reference TPM value, the mean value for the 2 replicates."
   ]
  },
  {
   "cell_type": "code",
   "execution_count": 18,
   "metadata": {},
   "outputs": [],
   "source": [
    "%%bash -s \"$compute_mean_expression\" \"$reference_dir\" \"$rnaseq_file_rep1\" \"$rnaseq_file_rep2\" \"$cell_type\" \"$rnaseq_rep1\" \"$rnaseq_rep2\"\n",
    "if [[ ! -d $2\"expression/\" ]]; then mkdir $2\"expression/\"; fi\n",
    "awk -f $1 $3 $4 > $2\"expression/\"$5\".\"$6\"_\"$7\".mean.TPM.txt\""
   ]
  },
  {
   "cell_type": "markdown",
   "metadata": {},
   "source": [
    "### Filter gene annotation"
   ]
  },
  {
   "cell_type": "code",
   "execution_count": 19,
   "metadata": {},
   "outputs": [],
   "source": [
    "%%bash -s \"$work_dir\" \"$genome_file\" \"$annotations_dir\" \"$gene_annotation\" \"$light_annotation\"\n",
    "if [[ ! -d $3 ]]; then mkdir $3; fi\n",
    "CONDA_BASE=$(conda info --base) && source $CONDA_BASE/etc/profile.d/conda.sh\n",
    "conda activate base && module load bioinfo/bedtools-2.27.1\n",
    "awk '{if(NR==FNR){!genome[$1]++; next}; if(genome[$1]){if($3 ~ /(^gene$)/){print $1\"\\t\"$4\"\\t\"$5\"\\t\"substr($10,2,length($10)-3)\"\\t\"0\"\\t\"$7}}}' $2 $4 | bedtools sort -g $2 -i stdin > $5"
   ]
  },
  {
   "cell_type": "markdown",
   "metadata": {},
   "source": [
    "## Running the ABC model"
   ]
  },
  {
   "cell_type": "markdown",
   "metadata": {},
   "source": [
    "### Step 1: define candidate elements\n",
    "\n",
    "As candidate elements, we use all regions contained in the CRISPRi-FlowFISH validation dataset."
   ]
  },
  {
   "cell_type": "code",
   "execution_count": 25,
   "metadata": {},
   "outputs": [],
   "source": [
    "%%bash -s \"$all_criff\" \"$candidateRegions\"\n",
    "if [[ ! -f $2 ]]; then\n",
    "    awk -v OFS='\\t' '{print $1, $2, $3}' $1 > $2\n",
    "fi"
   ]
  },
  {
   "cell_type": "markdown",
   "metadata": {},
   "source": [
    "### Step 2: quantifying enhancer activity\n",
    "\n",
    "#### Use ABC `run.neighborhoods.py`"
   ]
  },
  {
   "cell_type": "code",
   "execution_count": 21,
   "metadata": {},
   "outputs": [],
   "source": [
    "%%writetemplate $slurm_2\n",
    "#!/bin/sh\n",
    "python {run_neighborhoods} \\\n",
    "--candidate_enhancer_regions {candidateRegions} \\\n",
    "--genes {annotations_dir}gene_ids.bed \\\n",
    "--H3K27ac {h3k27_file_rep1},{h3k27_file_rep1} \\\n",
    "--DHS {dnase_file_rep1},{dnase_file_rep2} \\\n",
    "--expression_table {gene_expression_table}  \\\n",
    "--chrom_sizes {genome_file} \\\n",
    "--ubiquitously_expressed_genes {ubiquitously_expressed_genes} \\\n",
    "--cellType {cell_type} \\\n",
    "--outdir {neighborhoods}"
   ]
  },
  {
   "cell_type": "markdown",
   "metadata": {},
   "source": [
    "WARNING: depending on the length of the inputs, this script may be very RAM-demanding. So we recommend to allocate at least 32 GB RAM to avoid \"out of memory\" errors."
   ]
  },
  {
   "cell_type": "code",
   "execution_count": 37,
   "metadata": {},
   "outputs": [
    {
     "name": "stdout",
     "output_type": "stream",
     "text": [
      "Submitted batch job 23289739\n"
     ]
    }
   ],
   "source": [
    "%%bash -s \"$work_dir\" \"$slurm_2\" \"$mail_user\"\n",
    "CONDA_BASE=$(conda info --base) && source $CONDA_BASE/etc/profile.d/conda.sh\n",
    "conda activate base && conda activate abcmodel\n",
    "module load bioinfo/samtools-1.9 bioinfo/bedtools-2.27.1 bioinfo/tabix-0.2.5 bioinfo/juicer-1.5.6\n",
    "sbatch --mem=32G --cpus-per-task=1 -J step2 --mail-user=$3 --mail-type=END,FAIL --workdir=$1 --export=ALL -p workq $2"
   ]
  },
  {
   "cell_type": "code",
   "execution_count": 46,
   "metadata": {},
   "outputs": [
    {
     "name": "stdout",
     "output_type": "stream",
     "text": [
      "Job ID: 23289739\r\n",
      "Cluster: genobull\r\n",
      "User/Group: thoellinger/U1220\r\n",
      "State: COMPLETED (exit code 0)\r\n",
      "Cores: 1\r\n",
      "CPU Utilized: 01:20:45\r\n",
      "CPU Efficiency: 99.84% of 01:20:53 core-walltime\r\n",
      "Job Wall-clock time: 01:20:53\r\n",
      "Memory Utilized: 18.92 GB\r\n",
      "Memory Efficiency: 29.57% of 64.00 GB\r\n"
     ]
    }
   ],
   "source": [
    "!seff 23289739 # ~ 2 hours (here we expect 17h15 -> 18h55 for 2nd attempt - we ran oom for 1st attempt)"
   ]
  },
  {
   "cell_type": "markdown",
   "metadata": {},
   "source": [
    "### Step 3: computing the ABC score\n",
    "\n",
    "If experimentally derived contact data is not available, one can run the ABC model using the powerlaw estimate only. In this case the ```--HiCdir``` argument should be excluded from ```predict.py``` and the ```--score_column powerlaw.Score``` argument should be included in ```predict.py```. In this case the ```ABC.Score``` column of the predictions file will be set to ```NaN```. The ```powerlaw.Score``` column of the output prediction files will be the relevant Score column to use."
   ]
  },
  {
   "cell_type": "code",
   "execution_count": 47,
   "metadata": {},
   "outputs": [],
   "source": [
    "%%writetemplate $slurm_3\n",
    "#!/bin/sh\n",
    "python {predict} \\\n",
    "--enhancers {neighborhoods}EnhancerList.txt \\\n",
    "--genes {neighborhoods}GeneList.txt \\\n",
    "--score_column powerlaw.Score \\\n",
    "--hic_resolution 5000 \\\n",
    "--scale_hic_using_powerlaw \\\n",
    "--threshold .02 \\\n",
    "--cellType {cell_type} \\\n",
    "--outdir {predictions} \\\n",
    "--make_all_putative"
   ]
  },
  {
   "cell_type": "code",
   "execution_count": 48,
   "metadata": {},
   "outputs": [
    {
     "name": "stdout",
     "output_type": "stream",
     "text": [
      "Submitted batch job 23298929\n"
     ]
    }
   ],
   "source": [
    "%%bash -s \"$work_dir\" \"$slurm_3\" \"$mail_user\"\n",
    "CONDA_BASE=$(conda info --base) && source $CONDA_BASE/etc/profile.d/conda.sh\n",
    "conda activate base && conda activate abcmodel\n",
    "module load bioinfo/samtools-1.9 bioinfo/bedtools-2.27.1 bioinfo/tabix-0.2.5 bioinfo/juicer-1.5.6\n",
    "sbatch --mem=8G --cpus-per-task=1 -J step3 --mail-user=$3 --mail-type=END,FAIL --workdir=$1 --export=ALL -p workq $2"
   ]
  },
  {
   "cell_type": "code",
   "execution_count": 51,
   "metadata": {},
   "outputs": [
    {
     "name": "stdout",
     "output_type": "stream",
     "text": [
      "Job ID: 23298929\r\n",
      "Cluster: genobull\r\n",
      "User/Group: thoellinger/U1220\r\n",
      "State: COMPLETED (exit code 0)\r\n",
      "Cores: 1\r\n",
      "CPU Utilized: 00:00:20\r\n",
      "CPU Efficiency: 95.24% of 00:00:21 core-walltime\r\n",
      "Job Wall-clock time: 00:00:21\r\n",
      "Memory Utilized: 299.21 MB\r\n",
      "Memory Efficiency: 3.65% of 8.00 GB\r\n"
     ]
    }
   ],
   "source": [
    "!seff 23298929"
   ]
  },
  {
   "cell_type": "markdown",
   "metadata": {},
   "source": [
    "## Evaluation of ABC predictions"
   ]
  },
  {
   "cell_type": "code",
   "execution_count": 26,
   "metadata": {},
   "outputs": [],
   "source": [
    "predictions_non_expressed = predictions+\"EnhancerPredictionsAllPutativeNonExpressedGenes.txt\"\n",
    "predictions_expressed = predictions+\"EnhancerPredictionsAllPutative.txt\"\n",
    "all_predictions = predictions+\"AllPredictions.bedpe\" # does not exist yet\n",
    "all_predictions_sorted = all_predictions+\".sorted\""
   ]
  },
  {
   "cell_type": "markdown",
   "metadata": {},
   "source": [
    "Unzip ABC predictions."
   ]
  },
  {
   "cell_type": "code",
   "execution_count": 27,
   "metadata": {},
   "outputs": [],
   "source": [
    "if not os.path.isfile(predictions_non_expressed):\n",
    "    !gzip -cd $predictions_non_expressed\".gz\" > $predictions_non_expressed\n",
    "if not os.path.isfile(predictions_expressed):\n",
    "    !gzip -cd $predictions_expressed\".gz\" > $predictions_expressed    "
   ]
  },
  {
   "cell_type": "markdown",
   "metadata": {},
   "source": [
    "Merge ABC predictions for expressed and non expressed genes, keep only columns of interest and sort the result."
   ]
  },
  {
   "cell_type": "code",
   "execution_count": 28,
   "metadata": {},
   "outputs": [],
   "source": [
    "%%bash -s \"$all_predictions\" \"$predictions_expressed\" \"$predictions_non_expressed\"\n",
    "if [[ ! -f $1 ]]; then\n",
    "    awk '{print $1\"\\t\"$2\"\\t\"$3\"\\t\"$1\"\\t\"$10\"\\t\"$10\"\\t\"$9\"\\t\"$20\"\\t.\\t.\\t\"$13\"\\t\"$11}' $2 > $1;\n",
    "    tail -n+2 $3 | awk '{print $1\"\\t\"$2\"\\t\"$3\"\\t\"$1\"\\t\"$10\"\\t\"$10\"\\t\"$9\"\\t\"$20\"\\t.\\t.\\t\"$13\"\\t\"$11}' >> $1;\n",
    "fi"
   ]
  },
  {
   "cell_type": "markdown",
   "metadata": {},
   "source": [
    "The following is very RAM-demanding, we recommend using at least 64GB of ram to avoid \"out of memory\" errors."
   ]
  },
  {
   "cell_type": "code",
   "execution_count": 55,
   "metadata": {},
   "outputs": [
    {
     "name": "stderr",
     "output_type": "stream",
     "text": [
      "srun: job 23298938 queued and waiting for resources\n",
      "srun: job 23298938 has been allocated resources\n"
     ]
    }
   ],
   "source": [
    "%%bash -s \"$all_predictions\" \"$all_predictions_sorted\" \"$genome_file\"\n",
    "export V1=$1 V2=$2 V3=$3\n",
    "CONDA_BASE=$(conda info --base) && source $CONDA_BASE/etc/profile.d/conda.sh\n",
    "conda activate base && conda activate abcmodel\n",
    "module load bioinfo/bedtools-2.27.1\n",
    "srun --mem=64G bash\n",
    "if [[ ! -f $V2 ]]; then\n",
    "    tail -n+2 $V1 | bedtools sort -faidx $V3 -i stdin  > $V2\n",
    "fi"
   ]
  },
  {
   "cell_type": "code",
   "execution_count": 57,
   "metadata": {},
   "outputs": [
    {
     "name": "stdout",
     "output_type": "stream",
     "text": [
      "Job ID: 23298938\r\n",
      "Cluster: genobull\r\n",
      "User/Group: thoellinger/U1220\r\n",
      "State: COMPLETED (exit code 0)\r\n",
      "Cores: 1\r\n",
      "CPU Utilized: 00:00:03\r\n",
      "CPU Efficiency: 100.00% of 00:00:03 core-walltime\r\n",
      "Job Wall-clock time: 00:00:03\r\n",
      "Memory Utilized: 1.16 MB\r\n",
      "Memory Efficiency: 0.00% of 64.00 GB\r\n"
     ]
    }
   ],
   "source": [
    "!seff 23298938"
   ]
  },
  {
   "cell_type": "markdown",
   "metadata": {},
   "source": [
    "### (Re)Intersecting the predictions with CRISPRi-FlowFISH validation dataset (to retrieve the ground interactions)"
   ]
  },
  {
   "cell_type": "markdown",
   "metadata": {},
   "source": [
    "> ```bedtools intersect -sorted -wo -a AllPredictions.bedpe.sorted -b /work2/project/regenet/workspace/thoellinger/CRISPRi_FlowFISH/k562/3863.fulco.bedpe.sorted -g /work2/project/regenet/workspace/thoellinger/ABC-Enhancer-Gene-Prediction/reference/chr_sizes |awk '{if(($7==$24) && ($2==$14) && ($3==$15)){print $23, $1, $2, $3, $8, $7}}' |tr . , |sort -rgk5,5 |tr , . > predictions_over_CRISPRi_FlowFISH.txt```"
   ]
  },
  {
   "cell_type": "code",
   "execution_count": null,
   "metadata": {},
   "outputs": [],
   "source": []
  },
  {
   "cell_type": "code",
   "execution_count": null,
   "metadata": {},
   "outputs": [],
   "source": []
  }
 ],
 "metadata": {
  "kernelspec": {
   "display_name": "Python 3",
   "language": "python",
   "name": "python3"
  },
  "language_info": {
   "codemirror_mode": {
    "name": "ipython",
    "version": 3
   },
   "file_extension": ".py",
   "mimetype": "text/x-python",
   "name": "python",
   "nbconvert_exporter": "python",
   "pygments_lexer": "ipython3",
   "version": "3.6.5"
  }
 },
 "nbformat": 4,
 "nbformat_minor": 2
}
