{
 "cells": [
  {
   "cell_type": "markdown",
   "metadata": {},
   "source": [
    "# ABC model over GM12878 with same accessions as for BENGI benchmarks"
   ]
  },
  {
   "cell_type": "markdown",
   "metadata": {},
   "source": [
    "## How to use this notebook?\n",
    "First, make a copy of [this notebook](http://genoweb.toulouse.inra.fr/~thoellinger/stable/ipynb/ABC/BENGI_GM12878.ipynb) on your computer / cluster.\n",
    "\n",
    "Then, to use this notebook, one should only have to carefully modify the content of the \"Set working directory\" section, then to execute the notebook cell by cell, in the correct order. After execution of each cell, remember to check for errors before executing the next one."
   ]
  },
  {
   "cell_type": "markdown",
   "metadata": {},
   "source": [
    "One can use the following to switch notebook theme:"
   ]
  },
  {
   "cell_type": "code",
   "execution_count": 1,
   "metadata": {},
   "outputs": [],
   "source": [
    "# night theme\n",
    "#!jt -t monokai -f fira -fs 10 -nf ptsans -nfs 11 -N -kl -cursw 2 -cursc r -cellw 95% -T"
   ]
  },
  {
   "cell_type": "code",
   "execution_count": 2,
   "metadata": {},
   "outputs": [],
   "source": [
    "# standard theme\n",
    "#!jt -r"
   ]
  },
  {
   "cell_type": "markdown",
   "metadata": {},
   "source": [
    "## Import required librairies"
   ]
  },
  {
   "cell_type": "code",
   "execution_count": 3,
   "metadata": {},
   "outputs": [],
   "source": [
    "import os.path #Or see https://stackoverflow.com/a/82852 for an object-oriented approach\n",
    "from IPython.core.magic import register_line_cell_magic"
   ]
  },
  {
   "cell_type": "code",
   "execution_count": 4,
   "metadata": {},
   "outputs": [],
   "source": [
    "@register_line_cell_magic\n",
    "def writetemplate(line, cell):\n",
    "    with open(line, 'w') as f:\n",
    "        f.write(cell.format(**globals()))"
   ]
  },
  {
   "cell_type": "markdown",
   "metadata": {},
   "source": [
    "## Set working directory"
   ]
  },
  {
   "cell_type": "code",
   "execution_count": 30,
   "metadata": {},
   "outputs": [],
   "source": [
    "mail_user = \"tristan.hoellinger@inserm.fr\" # slurm notifications\n",
    "version = \"hg19\" # used only in the current cell to compute some paths \n",
    "cell_type = \"gm12878\" # used all along the notebook\n",
    "specie = \"homo_sapiens/\"+version+\"/\" # used only in the current cell to compute some paths \n",
    "\n",
    "# Where to store run-specific references, scripts, intermediate files, predictions, etc\n",
    "work_dir = \"/work2/project/regenet/workspace/thoellinger/ABC-Enhancer-Gene-Prediction/BENGI_GM12878/\"\n",
    "\n",
    "scripts = work_dir+\"hi_slurm/\" # where to store scripts specific to this run\n",
    "results_dir = \"/work2/project/regenet/results/\" # used to compute paths where data for this cell type is\n",
    "                                                # stored / will be downloaded\n",
    "dnase_dir = results_dir+\"dnaseseq/\"+specie+cell_type+'/'\n",
    "chipseq_dir = results_dir+\"chipseq/h3k27ac/\"+specie+cell_type+'/'\n",
    "expression_dir = results_dir+\"rnaseq/\"+specie+cell_type+'/'\n",
    "blacklist_dir = \"/work2/project/regenet/data/species/\"+specie # where the ENCODE blacklist is (going to be) stored\n",
    "\n",
    "blacklist = blacklist_dir+version+\"-blacklist.v2.bed.gz\" # need not exist yet\n",
    "\n",
    "# Gene annotation in the gtf format and gene name / gene id table (1st column id, 2nd column name)\n",
    "gene_annotation = \"/work2/project/fragencode/data/species/homo_sapiens/hg19.gencv19/homo_sapiens.gtf\"\n",
    "gnid_gname = \"/work2/project/fragencode/data/species/homo_sapiens/hg19.gencv19/homo_sapiens.gnid.gnname.tsv\"\n",
    "\n",
    "# Accessions for the current run. Just put accession numbers here, no need to download these accessions \"by hand\".\n",
    "dnase_rep1 = \"ENCFF664VNB\" # exp ENCSR000COQ\n",
    "dnase_rep2 = \"ENCFF790WER\" # exp ENCSR000COQ\n",
    "h3k27_rep1 = \"ENCFF197QHX\" # exp ENCSR000AKC\n",
    "h3k27_rep2 = \"ENCFF882PRP\" # exp ENCSR000AKC\n",
    "rnaseq_rep1 = \"ENCFF587ALK\" # exp ENCSR000COQ\n",
    "rnaseq_rep2 = \"ENCFF766CPS\" # exp ENCSR000COQ\n",
    "\n",
    "# Where to download the blacklist. Will not be used unless blacklist not found yet.\n",
    "blacklist_link = \"https://github.com/Boyle-Lab/Blacklist/raw/master/lists/hg19-blacklist.v2.bed.gz\"\n",
    "\n",
    "dnase_file_rep1 = dnase_dir+dnase_rep1+\".bam\" # do not change\n",
    "dnase_file_rep2 = dnase_dir+dnase_rep2+\".bam\"  # do not change\n",
    "h3k27_file_rep1 = chipseq_dir+h3k27_rep1+\".bam\"  # do not change\n",
    "h3k27_file_rep2 = chipseq_dir+h3k27_rep2+\".bam\"  # do not change\n",
    "rnaseq_file_rep1 = expression_dir+rnaseq_rep1+\".tsv\"  # do not change\n",
    "rnaseq_file_rep2 = expression_dir+rnaseq_rep2+\".tsv\"  # do not change\n",
    "\n",
    "reference_dir = work_dir+\"reference/\" # do not change\n",
    "annotations_dir = reference_dir+\"gene_annotation/\" # do not change\n",
    "peaks = work_dir+\"ABC_output/Peaks/\" # do not change\n",
    "neighborhoods = work_dir+\"ABC_output/Neighborhoods/\" # do not change\n",
    "predictions = work_dir+\"ABC_output/Predictions/\" # do not change\n",
    "\n",
    "light_annotation = annotations_dir+\"gene_ids.bed\"\n",
    "\n",
    "# Ubiquitously expressed genes (gene names). If provided, `ubiquitously_expressed_genes` will be\n",
    "# automatically generated with gene ids instead of gene names. If not (left empty), \n",
    "# `ubiquitously_expressed_genes` must be provided.\n",
    "ubiquitous_gene_names = work_dir+\"../reference/UbiquitouslyExpressedGenesHG19.txt\"\n",
    "# Ubiquitously expressed genes (gene ids). Please provide either `ubiquitously_expressed_genes` or\n",
    "# `ubiquitous_gene_names`\n",
    "ubiquitously_expressed_genes = reference_dir+\"UbiquitouslyExpressedGenes_ids.txt\" # need not exist\n",
    "\n",
    "compute_mean_expression = work_dir+\"../compute_mean_expression.awk\"\n",
    "# compute_mean_expression.awk computes an expression table (<gene id> <expression>) taking the mean\n",
    "# TPM expression found in the 2 input polyA+ RNA-seq tsv.\n",
    "\n",
    "make_candidate_regions = work_dir+\"../src/makeCandidateRegions.py\"\n",
    "run_neighborhoods = work_dir+\"../src/run.neighborhoods.py\"\n",
    "predict = work_dir+\"../src/predict.py\"\n",
    "\n",
    "genome_file = reference_dir+\"chr_sizes\" # shall not exist yet\n",
    "\n",
    "gene_expression_table = reference_dir+\"expression/\"+cell_type+\".\"+rnaseq_rep1+\"_\"+rnaseq_rep2+\".mean.TPM.txt\""
   ]
  },
  {
   "cell_type": "code",
   "execution_count": 31,
   "metadata": {},
   "outputs": [],
   "source": [
    "if not os.path.isdir(reference_dir):\n",
    "    !mkdir $reference_dir\n",
    "if not os.path.isdir(scripts):\n",
    "    !mkdir $scripts"
   ]
  },
  {
   "cell_type": "code",
   "execution_count": 32,
   "metadata": {},
   "outputs": [],
   "source": [
    "# One may only change what is between quotes here\n",
    "slurm_1_1 = scripts+\"step1.1.sh\"\n",
    "slurm_1_2 = scripts+\"step1.2.sh\"\n",
    "slurm_1_3 = scripts+\"step1.3.sh\"\n",
    "slurm_2 = scripts+\"step2.sh\"\n",
    "slurm_3 = scripts+\"step3.sh\""
   ]
  },
  {
   "cell_type": "code",
   "execution_count": 33,
   "metadata": {},
   "outputs": [],
   "source": [
    "ccREs_dir = results_dir+\"ccREs/\"+specie+\"V1/\"+cell_type+'/'\n",
    "\n",
    "ccREs_accession = \"ENCFF028SGJ\" # ENCODE ccREs with annotations for GM12878 cell type\n",
    "TSS_list = \"/work2/project/regenet/workspace/thoellinger/BENGI/Benchmark/Annotations/GENCODEv19-TSSs.bed\"\n",
    "\n",
    "ccREs = ccREs_dir+ccREs_accession+\".bed\" # need not exist yet\n",
    "ccREs_ELS = ccREs_dir+cell_type+\"_ccRE_ELSs.bed\" # need not exist yet\n",
    "ccREs_dELS = ccREs_dir+cell_type+\"_ccRE_dELSs.bed\" # need not exist yet"
   ]
  },
  {
   "cell_type": "markdown",
   "metadata": {},
   "source": [
    "## Data acquisition"
   ]
  },
  {
   "cell_type": "markdown",
   "metadata": {},
   "source": [
    "### Chromatin accessibility (DNase-seq)\n",
    "\n",
    "We use the same DNase-seq data as Moore et al. 2020 for DNase-DNase correlation method - that is, the data used by Thurman et al. 2012.\n",
    "\n",
    "Experiment: `ENCSR000COQ` https://www.encodeproject.org/experiments/ENCSR000COQ/\n",
    "\n",
    "Replicate 1: `ENCFF664VNB.bam` ; Replicate 2: `ENCFF790WER.bam`"
   ]
  },
  {
   "cell_type": "code",
   "execution_count": 8,
   "metadata": {},
   "outputs": [],
   "source": [
    "if not os.path.isfile(dnase_file_rep1):\n",
    "    !wget https://www.encodeproject.org/files/$dnase_rep1/@@download/$dnase_rep1$\".bam\" -P $dnase_dir\n",
    "            \n",
    "if not os.path.isfile(dnase_file_rep2):\n",
    "    !wget https://www.encodeproject.org/files/$dnase_rep2/@@download/$dnase_rep2$\".bam\" -P $dnase_dir"
   ]
  },
  {
   "cell_type": "markdown",
   "metadata": {},
   "source": [
    "### Blacklist\n",
    "\n",
    "We use [the ENCODE Blacklist](https://github.com/Boyle-Lab/Blacklist) for Human GRCh19 downloaded from [this link](https://github.com/Boyle-Lab/Blacklist/blob/master/lists/hg19-blacklist.v2.bed.gz)."
   ]
  },
  {
   "cell_type": "code",
   "execution_count": 9,
   "metadata": {},
   "outputs": [],
   "source": [
    "if not os.path.isfile(blacklist):\n",
    "    !wget $blacklist_link -P $blacklist_dir"
   ]
  },
  {
   "cell_type": "markdown",
   "metadata": {},
   "source": [
    "### Histone mark H3K27ac ChIP-seq\n",
    "\n",
    "In Moore et al. 2020, histone marks are used:\n",
    "\n",
    "* to build the ccREs\n",
    "* for the training of Target Finder\n",
    "\n",
    "For the sake of comparability between methods evaluation, if ever it appears that H3K27ac ChIP-seq accessions are not the same for ccREs and Target Finder training, we should use here the same as the ones used for Target Finder training. We shall verify later whether the accessions are the same or not.\n",
    "\n",
    "In Moore et al. 2020:\n",
    "\n",
    "> ***TargetFinder***\n",
    "> We reimplemented TargetFinder to run on our cCRE-gene pairs with chromCV. For features, we used the identical datasets described by Whalen et al. for each cell type.\n",
    "\n",
    "The accessions of H3k27ac ChIP-seq files used are available in supplementary Table S2 of [Whalen et al.](https://www.ncbi.nlm.nih.gov/pmc/articles/PMC4910881/):\n",
    "\n",
    "|     Cell line      |   K562   | GM12878  | HeLa-S3  |  HUVEC   |  IMR90   |   NHEK   |\n",
    "| :----------------: | :------: | -------- | -------- | :------: | :------: | :------: |\n",
    "| ChIP-seq (H3K27ac) | GSE29611 | GSE29611 | GSE29611 | GSE29611 | GSE16256 | GSE29611 |\n",
    "\n",
    "So either we download the big file (> 330 gb) for the `GSE29611` accession on GEO, or only the info file:\n",
    "```bash\n",
    "wget ftp://ftp.ncbi.nlm.nih.gov/geo/series/GSE29nnn/GSE29611/suppl/GSE29611_run_info.txt.gz -P /work2/project/regenet/results/chipseq/h3k27ac/homo_sapiens/hg19/gm12878/\n",
    "```\n",
    "in which we find the precise accession for H3K27ac ChIP-seq, which is: `GSM733771`: https://www.ncbi.nlm.nih.gov/geo/query/acc.cgi?acc=GSM733771.\n",
    "(see file names in \"Set working directory\" section).\n",
    "\n",
    "On the [ENCODE portal](https://www.encodeproject.org/) we find that this experiment corresponds to [experiment ENCSR000AKC](https://www.encodeproject.org/experiments/ENCSR000AKC/), and that the accessions available [on GEO](https://www.ncbi.nlm.nih.gov/geo/query/acc.cgi?acc=GSM733771) correspond to [ENCFF197QHX](https://www.encodeproject.org/files/ENCFF197QHX/) and [ENCFF882PRP](https://www.encodeproject.org/files/ENCFF882PRP/). Note that sizes do not match (especially for replicate 1), but this is probably due to specific ENCODE processing pipeline.\n",
    "\n",
    "Hence we download the following accessions:"
   ]
  },
  {
   "cell_type": "code",
   "execution_count": 10,
   "metadata": {},
   "outputs": [],
   "source": [
    "if not os.path.isfile(h3k27_file_rep1):\n",
    "    !wget https://www.encodeproject.org/files/$h3k27_rep1/@@download/$h3k27_rep1$\".bam\" -P $chipseq_dir\n",
    "            \n",
    "if not os.path.isfile(h3k27_file_rep2):\n",
    "    !wget https://www.encodeproject.org/files/$h3k27_rep2/@@download/$h3k27_rep2$\".bam\" -P $chipseq_dir"
   ]
  },
  {
   "cell_type": "markdown",
   "metadata": {},
   "source": [
    "### Gene expression (polyA+ RNA-seq)\n",
    "\n",
    "We use the two replicates provided by BENGI Moore et al. 2020 in Additional File 1 Table S1b.\n",
    "\n",
    "Experiment: `ENCSR000COQ` Thomas Gingeras, CSHL https://www.encodeproject.org/experiments/ENCSR000COQ/\n",
    "\n",
    "Replicate 1: `ENCFF587ALK` ; Replicate 2: `ENCFF766CPS`"
   ]
  },
  {
   "cell_type": "code",
   "execution_count": 11,
   "metadata": {},
   "outputs": [],
   "source": [
    "if not os.path.isfile(rnaseq_file_rep1):\n",
    "    !wget https://www.encodeproject.org/files/$rnaseq_rep1/@@download/$rnaseq_rep1$\".bam\" -P $expression_dir\n",
    "            \n",
    "if not os.path.isfile(rnaseq_file_rep2):\n",
    "    !wget https://www.encodeproject.org/files/$rnaseq_rep2/@@download/$rnaseq_rep2$\".bam\" -P $expression_dir"
   ]
  },
  {
   "cell_type": "markdown",
   "metadata": {},
   "source": [
    "### Gene annotation\n",
    "\n",
    "We use the encode version 19 of hg19 (`gene_annotation` here). We also need a files with 2 columns making the association between gene names / gene ids (`gnid_gname` here)."
   ]
  },
  {
   "cell_type": "markdown",
   "metadata": {},
   "source": [
    "### Ubiquitously expressed genes\n",
    "\n",
    "We use the `UbiquitouslyExpressedGenesHG19.txt` list of 847 ubiquitously expressed genes used by ABC authors. We replace gene symbols (names) with gene ids, which result in a list of 843 ubiquitously expressed genes for which we find an id."
   ]
  },
  {
   "cell_type": "code",
   "execution_count": 12,
   "metadata": {},
   "outputs": [],
   "source": [
    "%%bash -s \"$gnid_gname\" \"$ubiquitous_gene_names\" \"$ubiquitously_expressed_genes\"\n",
    "if [[ -f $2 ]] && [[ ! -f $3 ]]; then\n",
    "    awk 'BEGIN{sep=\"\\t\"} NR==FNR {id[$2]=$1; next} id[$1] {print id[$1]}' $1 $2 > $3\n",
    "fi"
   ]
  },
  {
   "cell_type": "code",
   "execution_count": 13,
   "metadata": {},
   "outputs": [
    {
     "name": "stdout",
     "output_type": "stream",
     "text": [
      "843 /work2/project/regenet/workspace/thoellinger/ABC-Enhancer-Gene-Prediction/final_BENGI_GM12878/reference/UbiquitouslyExpressedGenes_ids.txt\r\n"
     ]
    }
   ],
   "source": [
    "!wc -l $ubiquitously_expressed_genes"
   ]
  },
  {
   "cell_type": "markdown",
   "metadata": {},
   "source": [
    "### Genome file\n",
    "\n",
    "We extract chromosomes sizes from the header of `ENCFF664VNB.bam` (DNase-seq, `dnase_rep1`)."
   ]
  },
  {
   "cell_type": "code",
   "execution_count": 22,
   "metadata": {},
   "outputs": [],
   "source": [
    "%%bash -s \"$work_dir\" \"$dnase_file_rep1\" \"$genome_file\"\n",
    "CONDA_BASE=$(conda info --base) && source $CONDA_BASE/etc/profile.d/conda.sh\n",
    "conda activate base && module load bioinfo/samtools-1.9\n",
    "samtools view -H $2 | grep SQ | cut -f 2,3 |cut -c 4- |awk 'BEGIN{FS=\"\\t\"} {split($2,locus,\":\"); if($1 ~ /^(chr)([0-9]{1,2}$)|(M$)|(X$)|(Y$)/){print($1\"\\t\"locus[2])}}' > $3\n",
    "awk '{print $1\"\\t\"0\"\\t\"$2}' $3 > $3\".bed\""
   ]
  },
  {
   "cell_type": "markdown",
   "metadata": {},
   "source": [
    "### ccREs\n",
    "We  need to download ccREs with annotations for this cell type, in order to intersect ABC predictions with distal ccREs with Enhancer-like signature, to later intersect them with BENGI datasets. The correct accession can be found in Supplentary Figure 1 Table S1a of Moore et al. 2020."
   ]
  },
  {
   "cell_type": "code",
   "execution_count": 9,
   "metadata": {},
   "outputs": [],
   "source": [
    "if not os.path.isfile(ccREs+\".gz\"):\n",
    "    !wget https://www.encodeproject.org/files/$ccREs_accession/@@download/$ccREs_accession$\".bed.gz\" -P $ccREs_dir\n",
    "        \n",
    "if not os.path.isfile(ccREs):\n",
    "    !gzip -cd $ccREs\".gz\" > $ccREs"
   ]
  },
  {
   "cell_type": "markdown",
   "metadata": {},
   "source": [
    "## Data reprocessing\n",
    "\n",
    "### Create expression table\n",
    "\n",
    "We use `compute_mean_expression.awk` to take as the reference TPM value, the mean value for the 2 replicates."
   ]
  },
  {
   "cell_type": "code",
   "execution_count": 23,
   "metadata": {},
   "outputs": [],
   "source": [
    "%%bash -s \"$compute_mean_expression\" \"$reference_dir\" \"$rnaseq_file_rep1\" \"$rnaseq_file_rep2\" \"$cell_type\" \"$rnaseq_rep1\" \"$rnaseq_rep2\"\n",
    "if [[ ! -d $2\"expression/\" ]]; then mkdir $2\"expression/\"; fi\n",
    "awk -f $1 $3 $4 > $2\"expression/\"$5\".\"$6\"_\"$7\".mean.TPM.txt\""
   ]
  },
  {
   "cell_type": "markdown",
   "metadata": {},
   "source": [
    "### Filter gene annotation\n",
    "\n",
    "We keep genes only, and select appropriate columns to fit the format of `reference/RefSeqCurated.170308.bed.CollapsedGeneBounds.bed` available on [ABC repository on Github](https://github.com/broadinstitute/ABC-Enhancer-Gene-Prediction), that is as follows:\n",
    "> ```bash\n",
    "> chrX\t99883667\t99894988\tENSG00000000003.10\t0\t-\n",
    "> chrX\t99839799\t99854882\tENSG00000000005.5\t0\t+\n",
    "> chr20\t49551404\t49575092\tENSG00000000419.8\t0\t-\n",
    "> ```\n",
    "\n",
    "WARNING: ABC assumes gene annotation is sorted at step 2, so we NEED to sort it, otherwise step 2 won't work.\n",
    "\n",
    "Moreover, we must keep only genes that lie on a chromosome listed in our curated `genome_file`."
   ]
  },
  {
   "cell_type": "code",
   "execution_count": 24,
   "metadata": {},
   "outputs": [],
   "source": [
    "%%bash -s \"$work_dir\" \"$genome_file\" \"$light_annotation\" \"$gene_annotation\"\n",
    "if [[ ! -d $3 ]]; then mkdir $3; fi\n",
    "CONDA_BASE=$(conda info --base) && source $CONDA_BASE/etc/profile.d/conda.sh\n",
    "conda activate base && module load bioinfo/bedtools-2.27.1\n",
    "awk '{if(NR==FNR){!genome[$1]++; next}; if(genome[$1]){if($3 ~ /(^gene$)/){print $1\"\\t\"$4\"\\t\"$5\"\\t\"substr($10,2,length($10)-3)\"\\t\"0\"\\t\"$7}}}' $2 $4 | bedtools sort -g $2 -i stdin > $3"
   ]
  },
  {
   "cell_type": "markdown",
   "metadata": {},
   "source": [
    "## Running the ABC model"
   ]
  },
  {
   "cell_type": "markdown",
   "metadata": {},
   "source": [
    "### Step 1: define candidate elements\n",
    "\n",
    "#### Call peaks with `macs2`"
   ]
  },
  {
   "cell_type": "code",
   "execution_count": 25,
   "metadata": {},
   "outputs": [],
   "source": [
    "%%writetemplate $slurm_1_1\n",
    "#!/bin/sh                                                                                                                                                                                                                    \n",
    "# dependencies: python2\n",
    "macs2 callpeak \\\n",
    "-t {dnase_file_rep1} {dnase_file_rep2} \\\n",
    "-n {dnase_rep1}_{dnase_rep2}.macs2 \\\n",
    "-f BAM \\\n",
    "-g hs \\\n",
    "-p .1 \\\n",
    "--call-summits \\\n",
    "--outdir {peaks}"
   ]
  },
  {
   "cell_type": "code",
   "execution_count": 26,
   "metadata": {},
   "outputs": [
    {
     "name": "stdout",
     "output_type": "stream",
     "text": [
      "Submitted batch job 22128421\n"
     ]
    }
   ],
   "source": [
    "%%bash -s \"$work_dir\" \"$slurm_1_1\" \"$mail_user\"\n",
    "CONDA_BASE=$(conda info --base) && source $CONDA_BASE/etc/profile.d/conda.sh\n",
    "conda activate base && conda activate abcmodel\n",
    "module load bioinfo/samtools-1.9 bioinfo/bedtools-2.27.1 bioinfo/tabix-0.2.5 bioinfo/juicer-1.5.6\n",
    "conda activate py2 && module load system/Python-2.7.2\n",
    "sbatch --mem=4G --cpus-per-task=1 -J step1.1 --mail-user=$3 --mail-type=END,FAIL --workdir=$1 --export=ALL -p workq $2\n",
    "conda deactivate && module unload system/Python-2.7.2"
   ]
  },
  {
   "cell_type": "code",
   "execution_count": 43,
   "metadata": {},
   "outputs": [
    {
     "name": "stdout",
     "output_type": "stream",
     "text": [
      "Job ID: 22128421\r\n",
      "Cluster: genobull\r\n",
      "User/Group: thoellinger/U1220\r\n",
      "State: COMPLETED (exit code 0)\r\n",
      "Cores: 1\r\n",
      "CPU Utilized: 00:51:18\r\n",
      "CPU Efficiency: 98.40% of 00:52:08 core-walltime\r\n",
      "Job Wall-clock time: 00:52:08\r\n",
      "Memory Utilized: 1.40 GB\r\n",
      "Memory Efficiency: 35.12% of 4.00 GB\r\n"
     ]
    }
   ],
   "source": [
    "!seff 22128421"
   ]
  },
  {
   "cell_type": "markdown",
   "metadata": {},
   "source": [
    "#### Use ABC `makeCandidateRegions.py` to define candidate regions\n",
    "\n",
    "As there are peaks over many kinds of scaffolds listed in the `.narrowPeak` and `.xls` output files, we modify them keep only chromosomes only (otherwise `bedtools sort` below would not work). **But we have to keep in mind that the `.r` will still corresponds to DNase peaks over all scaffolds**."
   ]
  },
  {
   "cell_type": "code",
   "execution_count": 44,
   "metadata": {},
   "outputs": [],
   "source": [
    "%%bash -s \"$peaks\" \"$dnase_rep1\" \"$dnase_rep2\"\n",
    "awk '$1 ~ /^(chr)([0-9]{1,2}$)|(M$)|(X$)|(Y$)/ {print $0}' $1$2\"_\"$3\".macs2_peaks.narrowPeak\" > $1/$2\"_\"$3\".chromosomes_only.macs2_peaks.narrowPeak\"\n",
    "awk 'NR <= 28 || $1 ~ /^(chr)([0-9]{1,2}$)|(M$)|(X$)|(Y$)/ {print $0}' $1$2\"_\"$3\".macs2_peaks.xls\" > $1$2\"_\"$3\".chromosomes_only.macs2_peaks.xls\""
   ]
  },
  {
   "cell_type": "markdown",
   "metadata": {},
   "source": [
    "Now we sort the result (note that it seems quite tricky to use `srun` from a notebook as we first need to export environment variables - maybe there is another way but as for now I could not find better):"
   ]
  },
  {
   "cell_type": "code",
   "execution_count": 45,
   "metadata": {},
   "outputs": [
    {
     "name": "stderr",
     "output_type": "stream",
     "text": [
      "srun: job 22131289 queued and waiting for resources\n",
      "srun: job 22131289 has been allocated resources\n"
     ]
    }
   ],
   "source": [
    "%%bash -s \"$peaks\" \"$dnase_rep1\" \"$dnase_rep2\" \"$genome_file\"\n",
    "export V1=$1 V2=$2 V3=$3 V4=$4\n",
    "CONDA_BASE=$(conda info --base) && source $CONDA_BASE/etc/profile.d/conda.sh\n",
    "conda activate base && conda activate abcmodel\n",
    "module load bioinfo/bedtools-2.27.1\n",
    "srun bash\n",
    "bedtools sort -faidx $V4 -i $V1$V2\"_\"$V3\".chromosomes_only.macs2_peaks.narrowPeak\" > $V1$V2\"_\"$V3\".macs2_peaks.narrowPeak.sorted\""
   ]
  },
  {
   "cell_type": "markdown",
   "metadata": {},
   "source": [
    "Now as `work_dir ../src/makeCandidateRegions.py` does not support multiple `bam` inputs, we concatenate the bam of the 2 replicates.  Indeed, `makeCandidateRegions.py` will use the bam input to count DNase reads on each peak of the`.macs2_peaks.narrowPeak.sorted` output found with `macs2`.\n",
    "\n",
    "(WARNING: depending on the size of the input bam, which is much variable, the execution on 1 thread only can take from a few minutes to several hours, so better use at least 8 threads)"
   ]
  },
  {
   "cell_type": "code",
   "execution_count": 58,
   "metadata": {},
   "outputs": [],
   "source": [
    "n_threads = 8 #we recommend using at least 8 cpu"
   ]
  },
  {
   "cell_type": "code",
   "execution_count": 70,
   "metadata": {},
   "outputs": [],
   "source": [
    "%%writetemplate $slurm_1_2\n",
    "#!/bin/sh\n",
    "# dependencies: bioinfo/samtools-1.9 bioinfo/bedtools-2.27.1\n",
    "\n",
    "if [[ ! -f {dnase_dir}{dnase_rep1}_{dnase_rep2}.bam ]]\n",
    "then\n",
    "    if [[ ! -f {dnase_dir}{dnase_rep1}_{dnase_rep2}.sam ]]\n",
    "    then\n",
    "        samtools view -@ {n_threads} -h {dnase_file_rep1} > {dnase_dir}{dnase_rep1}_{dnase_rep2}.sam\n",
    "        samtools view -@ {n_threads} {dnase_file_rep2} >> {dnase_dir}{dnase_rep1}_{dnase_rep2}.sam\n",
    "        samtools view -@ {n_threads} -S -b {dnase_dir}{dnase_rep1}_{dnase_rep2}.sam > {dnase_dir}{dnase_rep1}_{dnase_rep2}.bam\n",
    "        rm {dnase_dir}{dnase_rep1}_{dnase_rep2}.sam\n",
    "    else\n",
    "        samtools view -@ {n_threads} -S -b {dnase_dir}{dnase_rep1}_{dnase_rep2}.sam > {dnase_dir}{dnase_rep1}_{dnase_rep2}.bam\n",
    "    fi\n",
    "fi"
   ]
  },
  {
   "cell_type": "code",
   "execution_count": 71,
   "metadata": {},
   "outputs": [
    {
     "name": "stdout",
     "output_type": "stream",
     "text": [
      "Submitted batch job 22134558\n"
     ]
    }
   ],
   "source": [
    "%%bash -s \"$work_dir\" \"$slurm_1_2\" \"$mail_user\"\n",
    "CONDA_BASE=$(conda info --base) && source $CONDA_BASE/etc/profile.d/conda.sh\n",
    "conda activate base && conda activate abcmodel\n",
    "module load bioinfo/samtools-1.9\n",
    "sbatch --mem=2G --cpus-per-task=8 -J step1.2 --mail-user=$3 --mail-type=END,FAIL --workdir=$1 --export=ALL -p workq $2"
   ]
  },
  {
   "cell_type": "code",
   "execution_count": 81,
   "metadata": {},
   "outputs": [
    {
     "name": "stdout",
     "output_type": "stream",
     "text": [
      "Job ID: 22134558\r\n",
      "Cluster: genobull\r\n",
      "User/Group: thoellinger/U1220\r\n",
      "State: COMPLETED (exit code 0)\r\n",
      "Nodes: 1\r\n",
      "Cores per node: 8\r\n",
      "CPU Utilized: 02:32:39\r\n",
      "CPU Efficiency: 65.72% of 03:52:16 core-walltime\r\n",
      "Job Wall-clock time: 00:29:02\r\n",
      "Memory Utilized: 8.98 MB\r\n",
      "Memory Efficiency: 0.44% of 2.00 GB\r\n"
     ]
    }
   ],
   "source": [
    "!seff 22134558"
   ]
  },
  {
   "cell_type": "markdown",
   "metadata": {},
   "source": [
    "Now we can launch `makeCandidateRegions` on slurm:"
   ]
  },
  {
   "cell_type": "code",
   "execution_count": 82,
   "metadata": {},
   "outputs": [],
   "source": [
    "%%writetemplate $slurm_1_3\n",
    "#!/bin/sh\n",
    "# dependencies: python3 bioinfo/samtools-1.9 bioinfo/bedtools-2.27.1 bioinfo/tabix-0.2.5 bioinfo/juicer-1.5.6\n",
    "python {make_candidate_regions} \\\n",
    "--narrowPeak {peaks}{dnase_rep1}_{dnase_rep2}.macs2_peaks.narrowPeak.sorted \\\n",
    "--bam {dnase_dir}{dnase_rep1}_{dnase_rep2}.bam \\\n",
    "--outDir {peaks} \\\n",
    "--chrom_sizes {genome_file} \\\n",
    "--regions_blacklist {blacklist} \\\n",
    "--peakExtendFromSummit 250 \\\n",
    "--nStrongestPeaks 150000\n",
    "#Expected output: params.txt, foo1_foo2.macs2_peaks.narrowPeak.sorted.candidateRegions.bed, foo1_foo2.macs2_peaks.narrowPeak.sorted.foo1_foo2.bam.Counts.bed"
   ]
  },
  {
   "cell_type": "markdown",
   "metadata": {},
   "source": [
    "WARNING: depending on the length of the inputs, this script may be very RAM-demanding. So we recommend to allocate at least 16 GB RAM to avoid \"out of memory\" errors."
   ]
  },
  {
   "cell_type": "code",
   "execution_count": 83,
   "metadata": {},
   "outputs": [
    {
     "name": "stdout",
     "output_type": "stream",
     "text": [
      "Submitted batch job 22139064\n"
     ]
    }
   ],
   "source": [
    "%%bash -s \"$work_dir\" \"$slurm_1_3\" \"$mail_user\"\n",
    "CONDA_BASE=$(conda info --base) && source $CONDA_BASE/etc/profile.d/conda.sh\n",
    "conda activate base && conda activate abcmodel\n",
    "module load bioinfo/samtools-1.9 bioinfo/bedtools-2.27.1 bioinfo/tabix-0.2.5 bioinfo/juicer-1.5.6\n",
    "sbatch --mem=16G --cpus-per-task=1 -J step1.3 --mail-user=$3 --mail-type=END,FAIL --workdir=$1 --export=ALL -p workq $2"
   ]
  },
  {
   "cell_type": "code",
   "execution_count": 96,
   "metadata": {},
   "outputs": [
    {
     "name": "stdout",
     "output_type": "stream",
     "text": [
      "Job ID: 22139064\r\n",
      "Cluster: genobull\r\n",
      "User/Group: thoellinger/U1220\r\n",
      "State: COMPLETED (exit code 0)\r\n",
      "Cores: 1\r\n",
      "CPU Utilized: 00:20:54\r\n",
      "CPU Efficiency: 99.68% of 00:20:58 core-walltime\r\n",
      "Job Wall-clock time: 00:20:58\r\n",
      "Memory Utilized: 8.54 GB\r\n",
      "Memory Efficiency: 53.36% of 16.00 GB\r\n"
     ]
    }
   ],
   "source": [
    "!seff 22139064"
   ]
  },
  {
   "cell_type": "markdown",
   "metadata": {},
   "source": [
    "### Step 2: quantifying enhancer activity\n",
    "\n",
    "#### Use ABC `run.neighborhoods.py`"
   ]
  },
  {
   "cell_type": "code",
   "execution_count": 89,
   "metadata": {},
   "outputs": [],
   "source": [
    "%%writetemplate $slurm_2\n",
    "#!/bin/sh\n",
    "python {run_neighborhoods} \\\n",
    "--candidate_enhancer_regions {peaks}{dnase_rep1}_{dnase_rep2}.macs2_peaks.narrowPeak.sorted.candidateRegions.bed \\\n",
    "--genes {annotations_dir}gene_ids.bed \\\n",
    "--H3K27ac {h3k27_file_rep1},{h3k27_file_rep1} \\\n",
    "--DHS {dnase_file_rep1},{dnase_file_rep2} \\\n",
    "--expression_table {gene_expression_table}  \\\n",
    "--chrom_sizes {genome_file} \\\n",
    "--ubiquitously_expressed_genes {ubiquitously_expressed_genes} \\\n",
    "--cellType {cell_type} \\\n",
    "--outdir {neighborhoods}"
   ]
  },
  {
   "cell_type": "markdown",
   "metadata": {},
   "source": [
    "WARNING: depending on the length of the inputs, this script may be very RAM-demanding. So we recommend to allocate at least 32 GB RAM in general, to avoid \"out of memory\" errors."
   ]
  },
  {
   "cell_type": "code",
   "execution_count": 90,
   "metadata": {},
   "outputs": [
    {
     "name": "stdout",
     "output_type": "stream",
     "text": [
      "Submitted batch job 22142267\n"
     ]
    }
   ],
   "source": [
    "%%bash -s \"$work_dir\" \"$slurm_2\" \"$mail_user\"\n",
    "CONDA_BASE=$(conda info --base) && source $CONDA_BASE/etc/profile.d/conda.sh\n",
    "conda activate base && conda activate abcmodel\n",
    "module load bioinfo/samtools-1.9 bioinfo/bedtools-2.27.1 bioinfo/tabix-0.2.5 bioinfo/juicer-1.5.6\n",
    "sbatch --mem=16G --cpus-per-task=1 -J step2 --mail-user=$3 --mail-type=END,FAIL --workdir=$1 --export=ALL -p workq $2"
   ]
  },
  {
   "cell_type": "code",
   "execution_count": 107,
   "metadata": {},
   "outputs": [
    {
     "name": "stdout",
     "output_type": "stream",
     "text": [
      "Job ID: 22142267\r\n",
      "Cluster: genobull\r\n",
      "User/Group: thoellinger/U1220\r\n",
      "State: COMPLETED (exit code 0)\r\n",
      "Cores: 1\r\n",
      "CPU Utilized: 03:41:59\r\n",
      "CPU Efficiency: 99.83% of 03:42:22 core-walltime\r\n",
      "Job Wall-clock time: 03:42:22\r\n",
      "Memory Utilized: 11.83 GB\r\n",
      "Memory Efficiency: 73.94% of 16.00 GB\r\n"
     ]
    }
   ],
   "source": [
    "!seff 22142267"
   ]
  },
  {
   "cell_type": "markdown",
   "metadata": {},
   "source": [
    "### Step 3: computing the ABC score\n",
    "\n",
    "If experimentally derived contact data is not available, one can run the ABC model using the powerlaw estimate only. In this case the ```--HiCdir``` argument should be excluded from ```predict.py``` and the ```--score_column powerlaw.Score``` argument should be included in ```predict.py```. In this case the ```ABC.Score``` column of the predictions file will be set to ```NaN```. The ```powerlaw.Score``` column of the output prediction files will be the relevant Score column to use."
   ]
  },
  {
   "cell_type": "code",
   "execution_count": 108,
   "metadata": {},
   "outputs": [],
   "source": [
    "%%writetemplate $slurm_3\n",
    "#!/bin/sh\n",
    "python {predict} \\\n",
    "--enhancers {neighborhoods}EnhancerList.txt \\\n",
    "--genes {neighborhoods}GeneList.txt \\\n",
    "--score_column powerlaw.Score \\\n",
    "--hic_resolution 5000 \\\n",
    "--scale_hic_using_powerlaw \\\n",
    "--threshold .02 \\\n",
    "--cellType {cell_type} \\\n",
    "--outdir {predictions} \\\n",
    "--make_all_putative"
   ]
  },
  {
   "cell_type": "markdown",
   "metadata": {},
   "source": [
    "Again, that step is very RAM-demanding so we recommend to allocate at least 64G of RAM in general."
   ]
  },
  {
   "cell_type": "code",
   "execution_count": 109,
   "metadata": {},
   "outputs": [
    {
     "name": "stdout",
     "output_type": "stream",
     "text": [
      "Submitted batch job 22149102\n"
     ]
    }
   ],
   "source": [
    "%%bash -s \"$work_dir\" \"$slurm_3\" \"$mail_user\"\n",
    "CONDA_BASE=$(conda info --base) && source $CONDA_BASE/etc/profile.d/conda.sh\n",
    "conda activate base && conda activate abcmodel\n",
    "module load bioinfo/samtools-1.9 bioinfo/bedtools-2.27.1 bioinfo/tabix-0.2.5 bioinfo/juicer-1.5.6\n",
    "sbatch --mem=32G --cpus-per-task=1 -J step3 --mail-user=$3 --mail-type=END,FAIL --workdir=$1 --export=ALL -p workq $2"
   ]
  },
  {
   "cell_type": "code",
   "execution_count": 115,
   "metadata": {},
   "outputs": [
    {
     "name": "stdout",
     "output_type": "stream",
     "text": [
      "Job ID: 22149102\r\n",
      "Cluster: genobull\r\n",
      "User/Group: thoellinger/U1220\r\n",
      "State: COMPLETED (exit code 0)\r\n",
      "Cores: 1\r\n",
      "CPU Utilized: 00:29:51\r\n",
      "CPU Efficiency: 99.83% of 00:29:54 core-walltime\r\n",
      "Job Wall-clock time: 00:29:54\r\n",
      "Memory Utilized: 20.07 GB\r\n",
      "Memory Efficiency: 62.70% of 32.00 GB\r\n"
     ]
    }
   ],
   "source": [
    "!seff 22149102"
   ]
  },
  {
   "cell_type": "markdown",
   "metadata": {},
   "source": [
    "## Evaluation of ABC predictions on BENGI datasets"
   ]
  },
  {
   "cell_type": "markdown",
   "metadata": {},
   "source": [
    "### Find ccRE-dELSs"
   ]
  },
  {
   "cell_type": "code",
   "execution_count": 27,
   "metadata": {},
   "outputs": [],
   "source": [
    "%%bash -s \"$ccREs\" \"$ccREs_ELS\" \"$genome_file\"\n",
    "if [[ ! -f $2 || ! -f $2\".sorted\" ]]\n",
    "then\n",
    "    export V1=$1 V2=$2 V3=$3\n",
    "    awk -v OFS='\\t' '$9 ~ /(^255,205,0)/ {print $1, $2, $3, \".\", $4, \"Enhancer-like\"}' $V1 > $V2\n",
    "    srun bash\n",
    "    bedtools sort -faidx $V3 -i $V2 > $V2\".sorted\"\n",
    "fi"
   ]
  },
  {
   "cell_type": "markdown",
   "metadata": {},
   "source": [
    "Then using `bedtools closest` we keep only distal ccRE-ELS (ie greater than 2 kb from an annotated TSS, GENCODE v19)."
   ]
  },
  {
   "cell_type": "code",
   "execution_count": 29,
   "metadata": {},
   "outputs": [],
   "source": [
    "%%bash -s \"$genome_file\" \"$ccREs_ELS\" \"$TSS_list\" \"$ccREs_dELS\" \"$genome_file\"\n",
    "if [[ ! -f $4 ]]\n",
    "then\n",
    "    export V1=$1 V2=$2 V3=$3 V4=$4 V5=$5\n",
    "    CONDA_BASE=$(conda info --base) && source $CONDA_BASE/etc/profile.d/conda.sh\n",
    "    conda activate base && conda activate abcmodel\n",
    "    module load bioinfo/bedtools-2.27.1\n",
    "    srun bash\n",
    "    awk '{if(NR==FNR){chr[$1]++; next}; if(chr[$1]){print $0}}' $V5 $V3 | bedtools sort -faidx $V5 -i stdin | bedtools closest -d -t \"first\" -g $V1 -a $V2\".sorted\" -b stdin | awk -v OFS='\\t' '$14 >= 2000 {print $1, $2, $3, $4, $5, \"distal-ELS\"}' > $V4\n",
    "fi"
   ]
  },
  {
   "cell_type": "markdown",
   "metadata": {},
   "source": [
    "### Data processing"
   ]
  },
  {
   "cell_type": "code",
   "execution_count": 34,
   "metadata": {},
   "outputs": [],
   "source": [
    "predictions_non_expressed = predictions+\"EnhancerPredictionsAllPutativeNonExpressedGenes.txt\"\n",
    "predictions_expressed = predictions+\"EnhancerPredictionsAllPutative.txt\"\n",
    "all_predictions = predictions+\"AllPredictions.bedpe\" # does not exist yet\n",
    "all_predictions_sorted = all_predictions+\".sorted\"\n",
    "all_predictions_ccre_els = all_predictions_sorted+\".ccRE_intersect.txt\"\n",
    "all_predictions_ccre_els_bedpe = all_predictions_sorted+\".ccRE_intersect.bedpe\"\n",
    "\n",
    "bengi = \"/work2/project/regenet/workspace/thoellinger/BENGI/Benchmark/All-Pairs.Natural-Ratio/\"\n",
    "nb_benchmarks = 6\n",
    "file_names = list()\n",
    "# benchmark file names without extensions\n",
    "file_names.append(\"GM12878.CHiC-Benchmark.v3\")\n",
    "file_names.append(\"GM12878.CTCF-ChIAPET-Benchmark.v3\")\n",
    "file_names.append(\"GM12878.GEUVADIS-Benchmark.v3\")\n",
    "file_names.append(\"GM12878.GTEx-Benchmark.v3\")\n",
    "file_names.append(\"GM12878.HiC-Benchmark.v3\")\n",
    "file_names.append(\"GM12878.RNAPII-ChIAPET-Benchmark.v3\")\n",
    "\n",
    "# short custom names for benchmarks, same order as above\n",
    "names = [\"CHiC\", \"CTCF\", \"GEUVADIS\", \"GTEx\", \"HiC\", \"RNAPII\"]\n",
    "\n",
    "files_dict = {}\n",
    "for k in range(nb_benchmarks):\n",
    "    files_dict[names[k]] = bengi+file_names[k]+\".new.bedpe\""
   ]
  },
  {
   "cell_type": "markdown",
   "metadata": {},
   "source": [
    "Unzip ABC predictions."
   ]
  },
  {
   "cell_type": "code",
   "execution_count": 35,
   "metadata": {},
   "outputs": [],
   "source": [
    "if not os.path.isfile(predictions_non_expressed):\n",
    "    !gzip -cd $predictions_non_expressed\".gz\" > $predictions_non_expressed\n",
    "if not os.path.isfile(predictions_expressed):\n",
    "    !gzip -cd $predictions_expressed\".gz\" > $predictions_expressed    "
   ]
  },
  {
   "cell_type": "markdown",
   "metadata": {},
   "source": [
    "Merge ABC predictions for expressed and non expressed genes, keep only columns of interest and sort the result."
   ]
  },
  {
   "cell_type": "code",
   "execution_count": 37,
   "metadata": {},
   "outputs": [],
   "source": [
    "%%bash -s \"$all_predictions\" \"$predictions_expressed\" \"$predictions_non_expressed\"\n",
    "if [[ ! -f $1 ]]\n",
    "then\n",
    "    awk '{print $1\"\\t\"$2\"\\t\"$3\"\\t\"$1\"\\t\"$10\"\\t\"$10\"\\t\"$9\"\\t\"$20\"\\t.\\t.\\t\"$13\"\\t\"$11}' $2 > $1;\n",
    "    tail -n+2 $3 | awk '{print $1\"\\t\"$2\"\\t\"$3\"\\t\"$1\"\\t\"$10\"\\t\"$10\"\\t\"$9\"\\t\"$20\"\\t.\\t.\\t\"$13\"\\t\"$11}' >> $1;\n",
    "fi"
   ]
  },
  {
   "cell_type": "markdown",
   "metadata": {},
   "source": [
    "The following is very RAM-demanding, we recommend using at least 64GB of ram to avoid \"out of memory\" errors."
   ]
  },
  {
   "cell_type": "code",
   "execution_count": 60,
   "metadata": {},
   "outputs": [
    {
     "name": "stderr",
     "output_type": "stream",
     "text": [
      "srun: job 22250266 queued and waiting for resources\n",
      "srun: job 22250266 has been allocated resources\n"
     ]
    }
   ],
   "source": [
    "%%bash -s \"$all_predictions\" \"$all_predictions_sorted\" \"$genome_file\"\n",
    "if [[ ! -f $V2 ]]\n",
    "then\n",
    "    export V1=$1 V2=$2 V3=$3\n",
    "    CONDA_BASE=$(conda info --base) && source $CONDA_BASE/etc/profile.d/conda.sh\n",
    "    conda activate base && conda activate abcmodel\n",
    "    module load bioinfo/bedtools-2.27.1\n",
    "    srun --mem=64G bash\n",
    "    tail -n+2 $V1 | bedtools sort -faidx $V3 -i stdin  > $V2\n",
    "fi"
   ]
  },
  {
   "cell_type": "code",
   "execution_count": 61,
   "metadata": {},
   "outputs": [],
   "source": [
    "# !head -n 1 $all_predictions_sorted\n",
    "# COLUMNS DESCRIPTION: (DO NOT DELETE)\n",
    "# chr, start1 (candidate enhancer), end1 (candidate enhancer), chr, start2 (gene TSS), end2 (gene TSS),\n",
    "# name (target gene id), score (ABC powerlaw.Score), empty, empty, gene expressed?, gene expression"
   ]
  },
  {
   "cell_type": "markdown",
   "metadata": {},
   "source": [
    "Intersect ABC candidate regions with ccRE-dELS."
   ]
  },
  {
   "cell_type": "code",
   "execution_count": 71,
   "metadata": {},
   "outputs": [
    {
     "name": "stderr",
     "output_type": "stream",
     "text": [
      "srun: job 22250437 queued and waiting for resources\n",
      "srun: job 22250437 has been allocated resources\n"
     ]
    }
   ],
   "source": [
    "%%bash -s \"$ccREs_dELS\" \"$all_predictions_sorted\" \"$all_predictions_ccre_els\" \"$genome_file\"\n",
    "if [[ ! -f $3 ]]\n",
    "then\n",
    "    export V1=$1 V2=$2 V3=$3 V4=$4\n",
    "    CONDA_BASE=$(conda info --base) && source $CONDA_BASE/etc/profile.d/conda.sh\n",
    "    conda activate base && conda activate abcmodel\n",
    "    module load bioinfo/bedtools-2.27.1\n",
    "    srun --mem=32G bash\n",
    "    bedtools intersect -sorted -wo -g $V4 -a $V1 -b $V2 > $V3\n",
    "fi"
   ]
  },
  {
   "cell_type": "markdown",
   "metadata": {},
   "source": [
    "When multiple ABC candidate enhancers for a given gene overlap the same ccRE-ELS, we keep only the one that maximize the ABC score (the \"powerlaw.Score\" if ABC ran without 3D data)."
   ]
  },
  {
   "cell_type": "code",
   "execution_count": 72,
   "metadata": {},
   "outputs": [
    {
     "name": "stderr",
     "output_type": "stream",
     "text": [
      "srun: job 22250445 queued and waiting for resources\n",
      "srun: job 22250445 has been allocated resources\n"
     ]
    }
   ],
   "source": [
    "%%bash -s \"$light_annotation\" \"$all_predictions_ccre_els\" \"$all_predictions_ccre_els_bedpe\"\n",
    "if [[ ! -f $3 ]]\n",
    "then\n",
    "    export V1=$1 V2=$2 V3=$3\n",
    "    CONDA_BASE=$(conda info --base) && source $CONDA_BASE/etc/profile.d/conda.sh\n",
    "    conda activate base && conda activate abcmodel\n",
    "    module load bioinfo/bedtools-2.27.1\n",
    "    srun --mem=32G bash\n",
    "    awk '{ \\\n",
    "        if(NR==FNR){ \\\n",
    "            start[$4]=$2; \\\n",
    "            end[$4]=$3; \\\n",
    "            next; \\\n",
    "        }; \\\n",
    "        if(!pair[$5$13]){ \\\n",
    "            pair[$5$13]=$1\"\\t\"start[$13]\"\\t\"end[$13]\"\\t\"$1\"\\t\"$2\"\\t\"$3\"\\t\"$13\":\"$5\"\\t\"$14\"\\t\"$15\"\\t\"$16\"\\t\"$2\"\\t\"$19\"\\t\"$17\"\\t\"$18; \\\n",
    "            next}; \\\n",
    "        split(pair[$5$13],current_pair,\"\\t\"); \\\n",
    "        if($14>current_pair[$14]){ \\\n",
    "            pair[$5$13]=$1\"\\t\"start[$13]\"\\t\"end[$13]\"\\t\"$1\"\\t\"$2\"\\t\"$3\"\\t\"$13\":\"$5\"\\t\"$14\"\\t\"$15\"\\t\"$16\"\\t\"$2\"\\t\"$19\"\\t\"$17\"\\t\"$18; \\\n",
    "        }} \\\n",
    "    END{for(u in pair){ \\\n",
    "        print pair[u] \\\n",
    "        }}' $V1 $V2 | bedtools sort -i stdin > $V3\n",
    "fi"
   ]
  },
  {
   "cell_type": "code",
   "execution_count": 73,
   "metadata": {},
   "outputs": [],
   "source": [
    "# !head -n 1 $all_predictions_ccre_els_bedpe\n",
    "# COLUMNS DESCRIPTION: (DO NOT DELETE)\n",
    "# chr, start1 (gene), end1 (gene), chr, start2 (ccRE-ELS), end2 (ccRE-ELS),\n",
    "# name (<target gene id>:<ccRE id>), score (ABC powerlaw.Score), empty, empty, \n",
    "# TSS (unique yet), overlap between ABS candidate region and ccRE, gene expressed?,\n",
    "# gene expression"
   ]
  },
  {
   "cell_type": "code",
   "execution_count": 74,
   "metadata": {},
   "outputs": [
    {
     "name": "stdout",
     "output_type": "stream",
     "text": [
      "37308539 /work2/project/regenet/workspace/thoellinger/ABC-Enhancer-Gene-Prediction/BENGI_GM12878/ABC_output/Predictions/AllPredictions.bedpe.sorted\r\n"
     ]
    }
   ],
   "source": [
    "!wc -l $all_predictions_sorted"
   ]
  },
  {
   "cell_type": "code",
   "execution_count": 75,
   "metadata": {},
   "outputs": [
    {
     "name": "stdout",
     "output_type": "stream",
     "text": [
      "1177503 /work2/project/regenet/workspace/thoellinger/ABC-Enhancer-Gene-Prediction/BENGI_GM12878/ABC_output/Predictions/AllPredictions.bedpe.sorted.ccRE_intersect.txt\r\n"
     ]
    }
   ],
   "source": [
    "!wc -l $all_predictions_ccre_els"
   ]
  },
  {
   "cell_type": "code",
   "execution_count": 76,
   "metadata": {},
   "outputs": [
    {
     "name": "stdout",
     "output_type": "stream",
     "text": [
      "1084021 /work2/project/regenet/workspace/thoellinger/ABC-Enhancer-Gene-Prediction/BENGI_GM12878/ABC_output/Predictions/AllPredictions.bedpe.sorted.ccRE_intersect.bedpe\r\n"
     ]
    }
   ],
   "source": [
    "!wc -l $all_predictions_ccre_els_bedpe"
   ]
  },
  {
   "cell_type": "markdown",
   "metadata": {},
   "source": [
    "### Preliminary remarks\n",
    "\n",
    "Among the 37,308,539 ABC predictions (positive + negative pairs, expressed + non-expressed genes), 1,084,021 unique pairs involve a ccRE-dELS.\n",
    "\n",
    "Now we can compute the overlap between these predictions (positives + negatives) and the BENGI datasets. At this point, a small overlap would reflect a bad implementation of the ABC model wrt our objective, rather than poor performance of the ABC model over BENGI datasets."
   ]
  },
  {
   "cell_type": "markdown",
   "metadata": {},
   "source": [
    "### Intersection between ABC predictions / BENGI"
   ]
  },
  {
   "cell_type": "markdown",
   "metadata": {},
   "source": [
    "#### Import files"
   ]
  },
  {
   "cell_type": "code",
   "execution_count": 77,
   "metadata": {},
   "outputs": [],
   "source": [
    "import pandas as pd"
   ]
  },
  {
   "cell_type": "code",
   "execution_count": 78,
   "metadata": {},
   "outputs": [],
   "source": [
    "col_names = [\"chr1\", \"start1\", \"end1\", \"chr2\", \"start2\", \"end2\", \"name\", \"is.positive\", \"strand1\", \"strand2\", \"TSSs\"] # column names in bedpe benchmarks\n",
    "col_names_abc = [\"chr1\", \"start1\", \"end1\", \"chr2\", \"start2\", \"end2\", \"name\", \"score\", \"strand1\", \"strand2\", \"TSS\", \"overlap\", \"is.expressed\", \"expression\"] # column names in abc bedpe\n",
    "benchmarks = {}\n",
    "for k in range(nb_benchmarks):\n",
    "    benchmarks[names[k]] = pd.read_csv(files_dict[names[k]], sep='\\t', header=None, usecols=[0, 1, 2, 4, 5, 6, 7, 10], names=col_names, dtype='str', engine='c')\n",
    "\n",
    "abc = pd.read_csv(all_predictions_ccre_els_bedpe, sep='\\t', header=None, usecols=[0, 1, 2, 4, 5, 6, 7, 10, 11], names=col_names_abc, dtype='str', engine='c')"
   ]
  },
  {
   "cell_type": "code",
   "execution_count": 79,
   "metadata": {},
   "outputs": [],
   "source": [
    "intersection = {}\n",
    "for k in range(nb_benchmarks):\n",
    "    intersection[names[k]] = benchmarks[names[k]].copy().merge(abc.iloc[:,[5,6,8]], how='inner', left_on=col_names[6], right_on=col_names_abc[6])\n",
    "    \n",
    "col_summary = ['ABC.length', 'BENGI.length', 'intersection.length', 'intersection.length (%)', 'BENGI.positives', 'intersection.positives', 'intersection.positives (%)']\n",
    "summary = pd.DataFrame(columns=col_summary)\n",
    "for k in range(nb_benchmarks):\n",
    "    len_abc = len(abc)\n",
    "    len_bengi = len(benchmarks[names[k]])\n",
    "    len_inter = len(intersection[names[k]])\n",
    "    ratio = len_inter/len_bengi*100\n",
    "    bengi_positives = sum(benchmarks[names[k]][col_names[7]] == \"1\")\n",
    "    inter_positives = sum(intersection[names[k]][col_names[7]] == \"1\")\n",
    "    ratio_positives = inter_positives/bengi_positives*100\n",
    "    summary = summary.append(pd.DataFrame([[len_abc, len_bengi, len_inter, ratio, bengi_positives, inter_positives, ratio_positives]], columns=col_summary), ignore_index=True)\n",
    "summary.index = names"
   ]
  },
  {
   "cell_type": "code",
   "execution_count": 80,
   "metadata": {},
   "outputs": [
    {
     "data": {
      "text/html": [
       "<div>\n",
       "<style scoped>\n",
       "    .dataframe tbody tr th:only-of-type {\n",
       "        vertical-align: middle;\n",
       "    }\n",
       "\n",
       "    .dataframe tbody tr th {\n",
       "        vertical-align: top;\n",
       "    }\n",
       "\n",
       "    .dataframe thead th {\n",
       "        text-align: right;\n",
       "    }\n",
       "</style>\n",
       "<table border=\"1\" class=\"dataframe\">\n",
       "  <thead>\n",
       "    <tr style=\"text-align: right;\">\n",
       "      <th></th>\n",
       "      <th>ABC.length</th>\n",
       "      <th>BENGI.length</th>\n",
       "      <th>intersection.length</th>\n",
       "      <th>intersection.length (%)</th>\n",
       "      <th>BENGI.positives</th>\n",
       "      <th>intersection.positives</th>\n",
       "      <th>intersection.positives (%)</th>\n",
       "    </tr>\n",
       "  </thead>\n",
       "  <tbody>\n",
       "    <tr>\n",
       "      <th>CHiC</th>\n",
       "      <td>1084021</td>\n",
       "      <td>375728</td>\n",
       "      <td>70543</td>\n",
       "      <td>18.775018</td>\n",
       "      <td>88245</td>\n",
       "      <td>16783</td>\n",
       "      <td>19.018641</td>\n",
       "    </tr>\n",
       "    <tr>\n",
       "      <th>CTCF</th>\n",
       "      <td>1084021</td>\n",
       "      <td>105016</td>\n",
       "      <td>18348</td>\n",
       "      <td>17.471623</td>\n",
       "      <td>7591</td>\n",
       "      <td>1311</td>\n",
       "      <td>17.270452</td>\n",
       "    </tr>\n",
       "    <tr>\n",
       "      <th>GEUVADIS</th>\n",
       "      <td>1084021</td>\n",
       "      <td>50999</td>\n",
       "      <td>11471</td>\n",
       "      <td>22.492598</td>\n",
       "      <td>2073</td>\n",
       "      <td>534</td>\n",
       "      <td>25.759768</td>\n",
       "    </tr>\n",
       "    <tr>\n",
       "      <th>GTEx</th>\n",
       "      <td>1084021</td>\n",
       "      <td>38200</td>\n",
       "      <td>9770</td>\n",
       "      <td>25.575916</td>\n",
       "      <td>1301</td>\n",
       "      <td>377</td>\n",
       "      <td>28.977709</td>\n",
       "    </tr>\n",
       "    <tr>\n",
       "      <th>HiC</th>\n",
       "      <td>1084021</td>\n",
       "      <td>153739</td>\n",
       "      <td>31952</td>\n",
       "      <td>20.783276</td>\n",
       "      <td>3404</td>\n",
       "      <td>707</td>\n",
       "      <td>20.769683</td>\n",
       "    </tr>\n",
       "    <tr>\n",
       "      <th>RNAPII</th>\n",
       "      <td>1084021</td>\n",
       "      <td>157235</td>\n",
       "      <td>31289</td>\n",
       "      <td>19.899513</td>\n",
       "      <td>23699</td>\n",
       "      <td>4981</td>\n",
       "      <td>21.017764</td>\n",
       "    </tr>\n",
       "  </tbody>\n",
       "</table>\n",
       "</div>"
      ],
      "text/plain": [
       "         ABC.length BENGI.length intersection.length  intersection.length (%)  \\\n",
       "CHiC        1084021       375728               70543                18.775018   \n",
       "CTCF        1084021       105016               18348                17.471623   \n",
       "GEUVADIS    1084021        50999               11471                22.492598   \n",
       "GTEx        1084021        38200                9770                25.575916   \n",
       "HiC         1084021       153739               31952                20.783276   \n",
       "RNAPII      1084021       157235               31289                19.899513   \n",
       "\n",
       "         BENGI.positives intersection.positives  intersection.positives (%)  \n",
       "CHiC               88245                  16783                   19.018641  \n",
       "CTCF                7591                   1311                   17.270452  \n",
       "GEUVADIS            2073                    534                   25.759768  \n",
       "GTEx                1301                    377                   28.977709  \n",
       "HiC                 3404                    707                   20.769683  \n",
       "RNAPII             23699                   4981                   21.017764  "
      ]
     },
     "execution_count": 80,
     "metadata": {},
     "output_type": "execute_result"
    }
   ],
   "source": [
    "summary"
   ]
  },
  {
   "cell_type": "markdown",
   "metadata": {},
   "source": [
    "#### Export files"
   ]
  },
  {
   "cell_type": "code",
   "execution_count": 81,
   "metadata": {},
   "outputs": [],
   "source": [
    "if not os.path.isdir(predictions+\"BENGI_intersect/\"):\n",
    "    !mkdir $predictions\"BENGI_intersect/\"\n",
    "for k in range(nb_benchmarks):\n",
    "    intersection[names[k]].drop(intersection[names[1]].columns[-1], axis=1).to_csv(predictions+\"BENGI_intersect/AllPredictions.intersect.\"+file_names[k]+\".bedpe\",sep='\\t',header=False,index=False)"
   ]
  }
 ],
 "metadata": {
  "kernelspec": {
   "display_name": "Python 3",
   "language": "python",
   "name": "python3"
  },
  "language_info": {
   "codemirror_mode": {
    "name": "ipython",
    "version": 3
   },
   "file_extension": ".py",
   "mimetype": "text/x-python",
   "name": "python",
   "nbconvert_exporter": "python",
   "pygments_lexer": "ipython3",
   "version": "3.6.5"
  }
 },
 "nbformat": 4,
 "nbformat_minor": 2
}
