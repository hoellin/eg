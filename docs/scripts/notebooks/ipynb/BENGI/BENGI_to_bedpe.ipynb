{
 "cells": [
  {
   "cell_type": "markdown",
   "metadata": {},
   "source": [
    "# NOTEBOOK: Convert BENGI txt to custom bedpe containing enhancer and gene loci + TSS lists\n",
    "\n",
    "*Jill E. Moore, Henry E. Pratt, Michael J. Purcaro et Zhiping Weng*\n",
    "\n",
    "https://genomebiology.biomedcentral.com/articles/10.1186/s13059-019-1924-8"
   ]
  },
  {
   "cell_type": "markdown",
   "metadata": {},
   "source": [
    "In this notebook we reprocess BENGI datasets into `.bedpe` containing comprehensive yet synthetic information for further statistical analysis with R.\n",
    "\n",
    "\n",
    "Note: Moore et al. used only 54,846 genes (or at least, provided TSS annotation for 54,846 genes), out of our 57,820 genes (coding + non-coding - of which 20,345 are protein-coding) in our whole GENCODE annotation. Yet there is no direct way to retrieve what filter they applied to evict 2,974 genes. Moreover, even restricting to these 54,846 genes, we find 175,554 TSS in our Gencode annotation (out of a total of 178,758 TSS), whereas the TSS list provided by Moore et al contains only 167,147 TSS. Again, we did not manage to find where this difference comes from.\n",
    "\n",
    "In this notebook, we use directly the TSS list provided by Moore et al, not our own."
   ]
  },
  {
   "cell_type": "markdown",
   "metadata": {},
   "source": [
    "## Dependencies\n",
    "\n",
    "[BENGI: Benchmark of Enhancer Gene Interactions](https://github.com/weng-lab/BENGI).\n",
    "\n",
    "One need to download BENGI datasets from Weng lab, then to unzip all zipped files in `BENGI/Benchmark/Annotations/`.\n",
    "\n",
    "```bash\n",
    "gzip -cd GENCODEv19-TSSs.bed.gz > GENCODEv19-TSSs.bed\n",
    "gzip -cd hg19-cCREs.bed.gz > hg19-cCREs.bed\n",
    "```"
   ]
  },
  {
   "cell_type": "markdown",
   "metadata": {},
   "source": [
    "## Data importation\n",
    "### Set working directory"
   ]
  },
  {
   "cell_type": "code",
   "execution_count": 1,
   "metadata": {},
   "outputs": [],
   "source": [
    "# Inserm:\n",
    "#root_dir = \"/home/thoellinger/Documents/\"\n",
    "# Personal:\n",
    "#root_dir = \"/home/hoellinger/Documents/INSERM/\"\n",
    "#annotation_dir = \n",
    "# Genotoul:\n",
    "annotation_dir = \"/work2/project/fragencode/data/species.bk/homo_sapiens/hg19.gencv19/\"\n",
    "work_dir = \"/work2/project/regenet/results/multi/bengi/\"\n",
    "\n",
    "# When not on Genotoul:\n",
    "#work_dir = root_dir+\"BENGI/Benchmark/\"\n",
    "#annotation_dir = root_dir+\"data/homo_sapiens/hg19.gencv19/\"\n",
    "\n",
    "path_to_TSSs_annotation = work_dir+\"Annotations/GENCODEv19-TSSs.bed\" # provided by Moore et al\n",
    "path_to_ccREs_annotation = work_dir+\"Annotations/hg19-cCREs.bed\" # provided by Moore et al\n",
    "path_to_genes_annotation = annotation_dir+\"homo_sapiens.gtf\" # full hg19 gencv19 annotation. Shall be processed.\n",
    "path_to_benchmarks = work_dir+\"All-Pairs.Natural-Ratio/\"\n",
    "\n",
    "nb_benchmarks = 6\n",
    "file_names = list()\n",
    "# benchmark files names without extensions\n",
    "file_names.append(\"GM12878.CHiC-Benchmark.v3\")\n",
    "file_names.append(\"GM12878.CTCF-ChIAPET-Benchmark.v3\")\n",
    "file_names.append(\"GM12878.GEUVADIS-Benchmark.v3\")\n",
    "file_names.append(\"GM12878.GTEx-Benchmark.v3\")\n",
    "file_names.append(\"GM12878.HiC-Benchmark.v3\")\n",
    "file_names.append(\"GM12878.RNAPII-ChIAPET-Benchmark.v3\")\n",
    "\n",
    "# short custom names for benchmarks, same order as above\n",
    "names = [\"CHiC\", \"CTCF\", \"GEUVADIS\", \"GTEx\", \"HiC\", \"RNAPII\"]\n",
    "\n",
    "# Should have nothing to change below this line\n",
    "# --------------------------------------------- \n",
    "col_names = [\"ccRE\", \"gene\", \"interaction\", \"CV\"] # column names in benchmarks\n",
    "names_TSSs = [\"chr\", \"start\", \"end\", \"transcript_id\", \"score\", \"strand\", \"gene_id\"] # column names for TSSs annotation. \"score\" column is not used\n",
    "names_ccREs = [\"chr\", \"start\", \"end\", \"rDHS\", \"ccRE\", \"group\"] # column names for ccREs. neither \"rDHS\" nor \"group\" are used.\n",
    "\n",
    "files_list = list()\n",
    "for k in range(nb_benchmarks):\n",
    "    files_list.append(path_to_benchmarks+file_names[k]+\".txt\")"
   ]
  },
  {
   "cell_type": "markdown",
   "metadata": {},
   "source": [
    "### Import standard libraries"
   ]
  },
  {
   "cell_type": "code",
   "execution_count": 2,
   "metadata": {},
   "outputs": [],
   "source": [
    "import pandas as pd"
   ]
  },
  {
   "cell_type": "markdown",
   "metadata": {},
   "source": [
    "### Import files"
   ]
  },
  {
   "cell_type": "code",
   "execution_count": 3,
   "metadata": {},
   "outputs": [],
   "source": [
    "benchmarks = list()\n",
    "for k in range(nb_benchmarks):\n",
    "    benchmarks.append(pd.read_csv(files_list[k], sep='\\t', header=None, names=col_names, dtype='str', engine='c'))\n",
    "TSSs = pd.read_csv(path_to_TSSs_annotation, sep='\\t', header=None, names=names_TSSs, dtype='str', engine='c')\n",
    "ccREs = pd.read_csv(path_to_ccREs_annotation, sep='\\t', header=None, names=names_ccREs, dtype='str', engine='c')\n",
    "unprocessed_genes = pd.read_csv(path_to_genes_annotation, sep='\\t', header=None, dtype='str', engine='c', skiprows=5)\n",
    "\n",
    "unprocessed_genes = unprocessed_genes[unprocessed_genes.iloc[:,2]==\"gene\"]\n",
    "unprocessed_genes.iloc[:,3] = (unprocessed_genes.iloc[:,3].astype(int) - 1).astype(str)\n",
    "TSSs.iloc[:,[1, 2]] = (TSSs.iloc[:,[1, 2]].astype(int) - 1).astype(str)"
   ]
  },
  {
   "cell_type": "code",
   "execution_count": 4,
   "metadata": {},
   "outputs": [
    {
     "data": {
      "text/html": [
       "<div>\n",
       "<style scoped>\n",
       "    .dataframe tbody tr th:only-of-type {\n",
       "        vertical-align: middle;\n",
       "    }\n",
       "\n",
       "    .dataframe tbody tr th {\n",
       "        vertical-align: top;\n",
       "    }\n",
       "\n",
       "    .dataframe thead th {\n",
       "        text-align: right;\n",
       "    }\n",
       "</style>\n",
       "<table border=\"1\" class=\"dataframe\">\n",
       "  <thead>\n",
       "    <tr style=\"text-align: right;\">\n",
       "      <th></th>\n",
       "      <th>chr</th>\n",
       "      <th>start</th>\n",
       "      <th>end</th>\n",
       "      <th>transcript_id</th>\n",
       "      <th>score</th>\n",
       "      <th>strand</th>\n",
       "      <th>gene_id</th>\n",
       "    </tr>\n",
       "  </thead>\n",
       "  <tbody>\n",
       "    <tr>\n",
       "      <th>0</th>\n",
       "      <td>chr1</td>\n",
       "      <td>11868</td>\n",
       "      <td>11868</td>\n",
       "      <td>ENST00000456328.2</td>\n",
       "      <td>.</td>\n",
       "      <td>+</td>\n",
       "      <td>ENSG00000223972.4</td>\n",
       "    </tr>\n",
       "    <tr>\n",
       "      <th>1</th>\n",
       "      <td>chr1</td>\n",
       "      <td>11871</td>\n",
       "      <td>11871</td>\n",
       "      <td>ENST00000515242.2</td>\n",
       "      <td>.</td>\n",
       "      <td>+</td>\n",
       "      <td>ENSG00000223972.4</td>\n",
       "    </tr>\n",
       "    <tr>\n",
       "      <th>2</th>\n",
       "      <td>chr1</td>\n",
       "      <td>11873</td>\n",
       "      <td>11873</td>\n",
       "      <td>ENST00000518655.2</td>\n",
       "      <td>.</td>\n",
       "      <td>+</td>\n",
       "      <td>ENSG00000223972.4</td>\n",
       "    </tr>\n",
       "    <tr>\n",
       "      <th>3</th>\n",
       "      <td>chr1</td>\n",
       "      <td>12009</td>\n",
       "      <td>12009</td>\n",
       "      <td>ENST00000450305.2</td>\n",
       "      <td>.</td>\n",
       "      <td>+</td>\n",
       "      <td>ENSG00000223972.4</td>\n",
       "    </tr>\n",
       "    <tr>\n",
       "      <th>4</th>\n",
       "      <td>chr1</td>\n",
       "      <td>29553</td>\n",
       "      <td>29553</td>\n",
       "      <td>ENST00000473358.1</td>\n",
       "      <td>.</td>\n",
       "      <td>+</td>\n",
       "      <td>ENSG00000243485.2</td>\n",
       "    </tr>\n",
       "  </tbody>\n",
       "</table>\n",
       "</div>"
      ],
      "text/plain": [
       "    chr  start    end      transcript_id score strand            gene_id\n",
       "0  chr1  11868  11868  ENST00000456328.2     .      +  ENSG00000223972.4\n",
       "1  chr1  11871  11871  ENST00000515242.2     .      +  ENSG00000223972.4\n",
       "2  chr1  11873  11873  ENST00000518655.2     .      +  ENSG00000223972.4\n",
       "3  chr1  12009  12009  ENST00000450305.2     .      +  ENSG00000223972.4\n",
       "4  chr1  29553  29553  ENST00000473358.1     .      +  ENSG00000243485.2"
      ]
     },
     "execution_count": 4,
     "metadata": {},
     "output_type": "execute_result"
    }
   ],
   "source": [
    "TSSs.head()"
   ]
  },
  {
   "cell_type": "code",
   "execution_count": 5,
   "metadata": {},
   "outputs": [
    {
     "name": "stdout",
     "output_type": "stream",
     "text": [
      "54846\n"
     ]
    }
   ],
   "source": [
    "print(len(TSSs['gene_id'].drop_duplicates())) # We see that Moore et al. TSSs list concerns only 54,846 genes."
   ]
  },
  {
   "cell_type": "code",
   "execution_count": 6,
   "metadata": {},
   "outputs": [
    {
     "data": {
      "text/html": [
       "<div>\n",
       "<style scoped>\n",
       "    .dataframe tbody tr th:only-of-type {\n",
       "        vertical-align: middle;\n",
       "    }\n",
       "\n",
       "    .dataframe tbody tr th {\n",
       "        vertical-align: top;\n",
       "    }\n",
       "\n",
       "    .dataframe thead th {\n",
       "        text-align: right;\n",
       "    }\n",
       "</style>\n",
       "<table border=\"1\" class=\"dataframe\">\n",
       "  <thead>\n",
       "    <tr style=\"text-align: right;\">\n",
       "      <th></th>\n",
       "      <th>chr</th>\n",
       "      <th>start</th>\n",
       "      <th>end</th>\n",
       "      <th>rDHS</th>\n",
       "      <th>ccRE</th>\n",
       "      <th>group</th>\n",
       "    </tr>\n",
       "  </thead>\n",
       "  <tbody>\n",
       "    <tr>\n",
       "      <th>0</th>\n",
       "      <td>chr1</td>\n",
       "      <td>10244</td>\n",
       "      <td>10357</td>\n",
       "      <td>EH37D0000001</td>\n",
       "      <td>EH37E1055273</td>\n",
       "      <td>Promoter-like</td>\n",
       "    </tr>\n",
       "    <tr>\n",
       "      <th>1</th>\n",
       "      <td>chr1</td>\n",
       "      <td>10433</td>\n",
       "      <td>10559</td>\n",
       "      <td>EH37D0000002</td>\n",
       "      <td>EH37E1055274</td>\n",
       "      <td>Promoter-like</td>\n",
       "    </tr>\n",
       "    <tr>\n",
       "      <th>2</th>\n",
       "      <td>chr1</td>\n",
       "      <td>16207</td>\n",
       "      <td>16334</td>\n",
       "      <td>EH37D0000003</td>\n",
       "      <td>EH37E0000001</td>\n",
       "      <td>CTCF-only</td>\n",
       "    </tr>\n",
       "    <tr>\n",
       "      <th>3</th>\n",
       "      <td>chr1</td>\n",
       "      <td>79033</td>\n",
       "      <td>79138</td>\n",
       "      <td>EH37D0000011</td>\n",
       "      <td>EH37E0064100</td>\n",
       "      <td>Enhancer-like</td>\n",
       "    </tr>\n",
       "    <tr>\n",
       "      <th>4</th>\n",
       "      <td>chr1</td>\n",
       "      <td>88254</td>\n",
       "      <td>88399</td>\n",
       "      <td>EH37D0000018</td>\n",
       "      <td>EH37E0064101</td>\n",
       "      <td>Enhancer-like</td>\n",
       "    </tr>\n",
       "  </tbody>\n",
       "</table>\n",
       "</div>"
      ],
      "text/plain": [
       "    chr  start    end          rDHS          ccRE          group\n",
       "0  chr1  10244  10357  EH37D0000001  EH37E1055273  Promoter-like\n",
       "1  chr1  10433  10559  EH37D0000002  EH37E1055274  Promoter-like\n",
       "2  chr1  16207  16334  EH37D0000003  EH37E0000001      CTCF-only\n",
       "3  chr1  79033  79138  EH37D0000011  EH37E0064100  Enhancer-like\n",
       "4  chr1  88254  88399  EH37D0000018  EH37E0064101  Enhancer-like"
      ]
     },
     "execution_count": 6,
     "metadata": {},
     "output_type": "execute_result"
    }
   ],
   "source": [
    "ccREs.head()"
   ]
  },
  {
   "cell_type": "code",
   "execution_count": 7,
   "metadata": {},
   "outputs": [
    {
     "data": {
      "text/html": [
       "<div>\n",
       "<style scoped>\n",
       "    .dataframe tbody tr th:only-of-type {\n",
       "        vertical-align: middle;\n",
       "    }\n",
       "\n",
       "    .dataframe tbody tr th {\n",
       "        vertical-align: top;\n",
       "    }\n",
       "\n",
       "    .dataframe thead th {\n",
       "        text-align: right;\n",
       "    }\n",
       "</style>\n",
       "<table border=\"1\" class=\"dataframe\">\n",
       "  <thead>\n",
       "    <tr style=\"text-align: right;\">\n",
       "      <th></th>\n",
       "      <th>ccRE</th>\n",
       "      <th>gene</th>\n",
       "      <th>interaction</th>\n",
       "      <th>CV</th>\n",
       "    </tr>\n",
       "  </thead>\n",
       "  <tbody>\n",
       "    <tr>\n",
       "      <th>0</th>\n",
       "      <td>EH37E0279866</td>\n",
       "      <td>ENSG00000271614.1</td>\n",
       "      <td>1</td>\n",
       "      <td>cv-3</td>\n",
       "    </tr>\n",
       "    <tr>\n",
       "      <th>1</th>\n",
       "      <td>EH37E0279866</td>\n",
       "      <td>ENSG00000070961.10</td>\n",
       "      <td>1</td>\n",
       "      <td>cv-3</td>\n",
       "    </tr>\n",
       "    <tr>\n",
       "      <th>2</th>\n",
       "      <td>EH37E0353506</td>\n",
       "      <td>ENSG00000259110.1</td>\n",
       "      <td>1</td>\n",
       "      <td>cv-7</td>\n",
       "    </tr>\n",
       "    <tr>\n",
       "      <th>3</th>\n",
       "      <td>EH37E0170486</td>\n",
       "      <td>ENSG00000128815.13</td>\n",
       "      <td>1</td>\n",
       "      <td>cv-5</td>\n",
       "    </tr>\n",
       "    <tr>\n",
       "      <th>4</th>\n",
       "      <td>EH37E0170486</td>\n",
       "      <td>ENSG00000228754.1</td>\n",
       "      <td>1</td>\n",
       "      <td>cv-5</td>\n",
       "    </tr>\n",
       "  </tbody>\n",
       "</table>\n",
       "</div>"
      ],
      "text/plain": [
       "           ccRE                gene interaction    CV\n",
       "0  EH37E0279866   ENSG00000271614.1          1   cv-3\n",
       "1  EH37E0279866  ENSG00000070961.10          1   cv-3\n",
       "2  EH37E0353506   ENSG00000259110.1          1   cv-7\n",
       "3  EH37E0170486  ENSG00000128815.13          1   cv-5\n",
       "4  EH37E0170486   ENSG00000228754.1          1   cv-5"
      ]
     },
     "execution_count": 7,
     "metadata": {},
     "output_type": "execute_result"
    }
   ],
   "source": [
    "benchmarks[0].head()"
   ]
  },
  {
   "cell_type": "code",
   "execution_count": 8,
   "metadata": {},
   "outputs": [
    {
     "data": {
      "text/html": [
       "<div>\n",
       "<style scoped>\n",
       "    .dataframe tbody tr th:only-of-type {\n",
       "        vertical-align: middle;\n",
       "    }\n",
       "\n",
       "    .dataframe tbody tr th {\n",
       "        vertical-align: top;\n",
       "    }\n",
       "\n",
       "    .dataframe thead th {\n",
       "        text-align: right;\n",
       "    }\n",
       "</style>\n",
       "<table border=\"1\" class=\"dataframe\">\n",
       "  <thead>\n",
       "    <tr style=\"text-align: right;\">\n",
       "      <th></th>\n",
       "      <th>0</th>\n",
       "      <th>1</th>\n",
       "      <th>2</th>\n",
       "      <th>3</th>\n",
       "      <th>4</th>\n",
       "      <th>5</th>\n",
       "      <th>6</th>\n",
       "      <th>7</th>\n",
       "      <th>8</th>\n",
       "    </tr>\n",
       "  </thead>\n",
       "  <tbody>\n",
       "    <tr>\n",
       "      <th>0</th>\n",
       "      <td>chr1</td>\n",
       "      <td>HAVANA</td>\n",
       "      <td>gene</td>\n",
       "      <td>11868</td>\n",
       "      <td>14412</td>\n",
       "      <td>.</td>\n",
       "      <td>+</td>\n",
       "      <td>.</td>\n",
       "      <td>gene_id \"ENSG00000223972.4\"; transcript_id \"EN...</td>\n",
       "    </tr>\n",
       "    <tr>\n",
       "      <th>21</th>\n",
       "      <td>chr1</td>\n",
       "      <td>HAVANA</td>\n",
       "      <td>gene</td>\n",
       "      <td>14362</td>\n",
       "      <td>29806</td>\n",
       "      <td>.</td>\n",
       "      <td>-</td>\n",
       "      <td>.</td>\n",
       "      <td>gene_id \"ENSG00000227232.4\"; transcript_id \"EN...</td>\n",
       "    </tr>\n",
       "    <tr>\n",
       "      <th>82</th>\n",
       "      <td>chr1</td>\n",
       "      <td>HAVANA</td>\n",
       "      <td>gene</td>\n",
       "      <td>29553</td>\n",
       "      <td>31109</td>\n",
       "      <td>.</td>\n",
       "      <td>+</td>\n",
       "      <td>.</td>\n",
       "      <td>gene_id \"ENSG00000243485.2\"; transcript_id \"EN...</td>\n",
       "    </tr>\n",
       "    <tr>\n",
       "      <th>92</th>\n",
       "      <td>chr1</td>\n",
       "      <td>HAVANA</td>\n",
       "      <td>gene</td>\n",
       "      <td>34553</td>\n",
       "      <td>36081</td>\n",
       "      <td>.</td>\n",
       "      <td>-</td>\n",
       "      <td>.</td>\n",
       "      <td>gene_id \"ENSG00000237613.2\"; transcript_id \"EN...</td>\n",
       "    </tr>\n",
       "    <tr>\n",
       "      <th>100</th>\n",
       "      <td>chr1</td>\n",
       "      <td>HAVANA</td>\n",
       "      <td>gene</td>\n",
       "      <td>52472</td>\n",
       "      <td>54936</td>\n",
       "      <td>.</td>\n",
       "      <td>+</td>\n",
       "      <td>.</td>\n",
       "      <td>gene_id \"ENSG00000268020.2\"; transcript_id \"EN...</td>\n",
       "    </tr>\n",
       "  </tbody>\n",
       "</table>\n",
       "</div>"
      ],
      "text/plain": [
       "        0       1     2      3      4  5  6  7  \\\n",
       "0    chr1  HAVANA  gene  11868  14412  .  +  .   \n",
       "21   chr1  HAVANA  gene  14362  29806  .  -  .   \n",
       "82   chr1  HAVANA  gene  29553  31109  .  +  .   \n",
       "92   chr1  HAVANA  gene  34553  36081  .  -  .   \n",
       "100  chr1  HAVANA  gene  52472  54936  .  +  .   \n",
       "\n",
       "                                                     8  \n",
       "0    gene_id \"ENSG00000223972.4\"; transcript_id \"EN...  \n",
       "21   gene_id \"ENSG00000227232.4\"; transcript_id \"EN...  \n",
       "82   gene_id \"ENSG00000243485.2\"; transcript_id \"EN...  \n",
       "92   gene_id \"ENSG00000237613.2\"; transcript_id \"EN...  \n",
       "100  gene_id \"ENSG00000268020.2\"; transcript_id \"EN...  "
      ]
     },
     "execution_count": 8,
     "metadata": {},
     "output_type": "execute_result"
    }
   ],
   "source": [
    "unprocessed_genes.head()"
   ]
  },
  {
   "cell_type": "code",
   "execution_count": 9,
   "metadata": {},
   "outputs": [
    {
     "data": {
      "text/plain": [
       "57820"
      ]
     },
     "execution_count": 9,
     "metadata": {},
     "output_type": "execute_result"
    }
   ],
   "source": [
    "len(unprocessed_genes)"
   ]
  },
  {
   "cell_type": "markdown",
   "metadata": {},
   "source": [
    "## Data reprocessing\n",
    "### `genes` annotation"
   ]
  },
  {
   "cell_type": "code",
   "execution_count": 10,
   "metadata": {},
   "outputs": [],
   "source": [
    "# The following filter keeps all gene types found in `hg19.gencv19/homo_sapiens.gtf`\n",
    "# One can easily remove any unwanted gene type\n",
    "list_of_gene_types = [\"protein_coding\", \"pseudogene\", \"lincRNA\", \"antisense\", \"processed_transcript\", \"miRNA\", \"misc_RNA\", \"snRNA\", \"snoRNA\", \"polymorphic_pseudogene\", \"sense_intronic\", \"rRNA\", \"sense_overlapping\", \"IG_V_gene\", \"TR_V_gene\", \"IG_V_pseudogene\", \"TR_J_gene\", \"IG_C_gene\", \"IG_D_gene\", \"3prime_overlapping_ncrna\", \"TR_V_pseudogene\", \"IG_J_gene\", \"Mt_tRNA\", \"TR_C_gene\", \"IG_C_pseudogene\", \"TR_J_pseudogene\", \"TR_J_pseudogene\", \"TR_D_gene\", \"IG_J_pseudogene\", \"Mt_rRNA\"]\n",
    "filter_valid_genes = unprocessed_genes[8].str.split('; ').str[2].str.split(' \\\"').str[1].str.rstrip('\\\"').isin(list_of_gene_types)\n",
    "unprocessed_genes = unprocessed_genes[filter_valid_genes]"
   ]
  },
  {
   "cell_type": "code",
   "execution_count": 11,
   "metadata": {},
   "outputs": [
    {
     "data": {
      "text/plain": [
       "57820"
      ]
     },
     "execution_count": 11,
     "metadata": {},
     "output_type": "execute_result"
    }
   ],
   "source": [
    "len(unprocessed_genes)"
   ]
  },
  {
   "cell_type": "code",
   "execution_count": 12,
   "metadata": {},
   "outputs": [],
   "source": [
    "col_genes = [\"chr\",\"start\", \"end\", \"gene_id\", \"strand\"]\n",
    "last_cols_unprocessed_genes = unprocessed_genes[8].str.split('; ').str[0].str.split(' \\\"')\n",
    "\n",
    "genes = pd.concat([unprocessed_genes.iloc[:, [0,3,4]], last_cols_unprocessed_genes.str[1].str.rstrip('\\\"').to_frame(), unprocessed_genes.iloc[:,6]], axis=1)\n",
    "genes.columns = col_genes"
   ]
  },
  {
   "cell_type": "code",
   "execution_count": 13,
   "metadata": {},
   "outputs": [
    {
     "data": {
      "text/html": [
       "<div>\n",
       "<style scoped>\n",
       "    .dataframe tbody tr th:only-of-type {\n",
       "        vertical-align: middle;\n",
       "    }\n",
       "\n",
       "    .dataframe tbody tr th {\n",
       "        vertical-align: top;\n",
       "    }\n",
       "\n",
       "    .dataframe thead th {\n",
       "        text-align: right;\n",
       "    }\n",
       "</style>\n",
       "<table border=\"1\" class=\"dataframe\">\n",
       "  <thead>\n",
       "    <tr style=\"text-align: right;\">\n",
       "      <th></th>\n",
       "      <th>chr</th>\n",
       "      <th>start</th>\n",
       "      <th>end</th>\n",
       "      <th>gene_id</th>\n",
       "      <th>strand</th>\n",
       "    </tr>\n",
       "  </thead>\n",
       "  <tbody>\n",
       "    <tr>\n",
       "      <th>0</th>\n",
       "      <td>chr1</td>\n",
       "      <td>11868</td>\n",
       "      <td>14412</td>\n",
       "      <td>ENSG00000223972.4</td>\n",
       "      <td>+</td>\n",
       "    </tr>\n",
       "  </tbody>\n",
       "</table>\n",
       "</div>"
      ],
      "text/plain": [
       "    chr  start    end            gene_id strand\n",
       "0  chr1  11868  14412  ENSG00000223972.4      +"
      ]
     },
     "execution_count": 13,
     "metadata": {},
     "output_type": "execute_result"
    }
   ],
   "source": [
    "genes.head(1)"
   ]
  },
  {
   "cell_type": "code",
   "execution_count": 14,
   "metadata": {},
   "outputs": [
    {
     "data": {
      "text/plain": [
       "57820"
      ]
     },
     "execution_count": 14,
     "metadata": {},
     "output_type": "execute_result"
    }
   ],
   "source": [
    "len(genes)"
   ]
  },
  {
   "cell_type": "code",
   "execution_count": 15,
   "metadata": {},
   "outputs": [],
   "source": [
    "# make sure there are no scaffolds\n",
    "#print(list(genes['chr'].drop_duplicates()))\n",
    "# make sure gene ids are not degenerate\n",
    "#print(len(genes['gene_id'].drop_duplicates()))\n",
    "#genes.iloc[test] # find degenerate ones"
   ]
  },
  {
   "cell_type": "markdown",
   "metadata": {},
   "source": [
    "### TSSs annotation -> 1 list / gene id"
   ]
  },
  {
   "cell_type": "code",
   "execution_count": 16,
   "metadata": {},
   "outputs": [
    {
     "data": {
      "text/html": [
       "<div>\n",
       "<style scoped>\n",
       "    .dataframe tbody tr th:only-of-type {\n",
       "        vertical-align: middle;\n",
       "    }\n",
       "\n",
       "    .dataframe tbody tr th {\n",
       "        vertical-align: top;\n",
       "    }\n",
       "\n",
       "    .dataframe thead th {\n",
       "        text-align: right;\n",
       "    }\n",
       "</style>\n",
       "<table border=\"1\" class=\"dataframe\">\n",
       "  <thead>\n",
       "    <tr style=\"text-align: right;\">\n",
       "      <th></th>\n",
       "      <th>gene_id</th>\n",
       "      <th>TSSs</th>\n",
       "    </tr>\n",
       "  </thead>\n",
       "  <tbody>\n",
       "    <tr>\n",
       "      <th>0</th>\n",
       "      <td>ENSG00000000003.10</td>\n",
       "      <td>99891685,99891802,99894987</td>\n",
       "    </tr>\n",
       "  </tbody>\n",
       "</table>\n",
       "</div>"
      ],
      "text/plain": [
       "              gene_id                        TSSs\n",
       "0  ENSG00000000003.10  99891685,99891802,99894987"
      ]
     },
     "execution_count": 16,
     "metadata": {},
     "output_type": "execute_result"
    }
   ],
   "source": [
    "names_compacted_TSSs = [names_TSSs[6], \"TSSs\"]\n",
    "TSSs_lists = TSSs.iloc[:,[1, 6]]\n",
    "TSSs_lists = TSSs_lists.groupby(TSSs_lists.columns[1])[TSSs_lists.columns[0]].apply(lambda x: ','.join(x)).to_frame().reset_index()\n",
    "TSSs_lists.columns = names_compacted_TSSs\n",
    "TSSs_lists.head(1)"
   ]
  },
  {
   "cell_type": "code",
   "execution_count": 17,
   "metadata": {},
   "outputs": [
    {
     "data": {
      "text/plain": [
       "54846"
      ]
     },
     "execution_count": 17,
     "metadata": {},
     "output_type": "execute_result"
    }
   ],
   "source": [
    "len(TSSs_lists)"
   ]
  },
  {
   "cell_type": "markdown",
   "metadata": {},
   "source": [
    "### Gather all useful information in 1 dataframe per file"
   ]
  },
  {
   "cell_type": "code",
   "execution_count": 18,
   "metadata": {},
   "outputs": [],
   "source": [
    "names_bedpe=['chrom1', 'start1', 'end1', 'chrom2', 'start2', 'end2', 'name', 'interaction', 'strand1', 'strand2', 'TSSs']\n",
    "# chrom1, start1 and end1 are relative to genes ; chrom2, start2, end2 to candidate regulatory elements\n",
    "\n",
    "new_names = {col_genes[0]: names_bedpe[0], col_genes[1]: names_bedpe[1], col_genes[2]: names_bedpe[2], col_genes[3]: names_bedpe[6], col_genes[4]: names_bedpe[8]}\n",
    "bedpe = [None]*nb_benchmarks    \n",
    "for k in range(nb_benchmarks):\n",
    "    bedpe[k] = genes.copy().merge(benchmarks[k].drop(col_names[3], axis=1), how='inner', left_on=col_genes[3], right_on=col_names[1]).merge(TSSs_lists, how='inner', left_on=col_genes[3], right_on=names_TSSs[-1]).merge(ccREs.iloc[:,[0,1,2,4]].rename(columns={names_ccREs[0]: names_bedpe[3], names_ccREs[1]: names_bedpe[4], names_ccREs[2]: names_bedpe[5]}), how='left', left_on=col_names[0], right_on=names_ccREs[4])\n",
    "    bedpe[k].iloc[:,3] += ':'+bedpe[k].iloc[:,5].map(str)\n",
    "    bedpe[k].drop([col_names[0], col_names[1]], axis=1, inplace=True)\n",
    "    bedpe[k][col_names[2]] = bedpe[k][col_names[2]].str.rstrip(' ')\n",
    "    bedpe[k].insert(5, names_bedpe[9], bedpe[k].iloc[:,4])\n",
    "    bedpe[k].rename(columns=new_names, inplace=True)\n",
    "    cols = bedpe[k].columns.tolist()\n",
    "    new_cols = cols[:3] + cols[-3:] + [cols[3], cols[6]] + cols[4:6] + [cols[7]]\n",
    "    bedpe[k] = bedpe[k][new_cols]"
   ]
  },
  {
   "cell_type": "code",
   "execution_count": 23,
   "metadata": {},
   "outputs": [
    {
     "data": {
      "text/html": [
       "<div>\n",
       "<style scoped>\n",
       "    .dataframe tbody tr th:only-of-type {\n",
       "        vertical-align: middle;\n",
       "    }\n",
       "\n",
       "    .dataframe tbody tr th {\n",
       "        vertical-align: top;\n",
       "    }\n",
       "\n",
       "    .dataframe thead th {\n",
       "        text-align: right;\n",
       "    }\n",
       "</style>\n",
       "<table border=\"1\" class=\"dataframe\">\n",
       "  <thead>\n",
       "    <tr style=\"text-align: right;\">\n",
       "      <th></th>\n",
       "      <th>chrom1</th>\n",
       "      <th>start1</th>\n",
       "      <th>end1</th>\n",
       "      <th>chrom2</th>\n",
       "      <th>start2</th>\n",
       "      <th>end2</th>\n",
       "      <th>name</th>\n",
       "      <th>interaction</th>\n",
       "      <th>strand1</th>\n",
       "      <th>strand2</th>\n",
       "      <th>TSSs</th>\n",
       "    </tr>\n",
       "  </thead>\n",
       "  <tbody>\n",
       "    <tr>\n",
       "      <th>0</th>\n",
       "      <td>chr1</td>\n",
       "      <td>536815</td>\n",
       "      <td>659930</td>\n",
       "      <td>chr1</td>\n",
       "      <td>927848</td>\n",
       "      <td>928157</td>\n",
       "      <td>ENSG00000230021.3:EH37E0064164</td>\n",
       "      <td>0</td>\n",
       "      <td>-</td>\n",
       "      <td>-</td>\n",
       "      <td>655529,655573,655579,655579,659929</td>\n",
       "    </tr>\n",
       "    <tr>\n",
       "      <th>1</th>\n",
       "      <td>chr1</td>\n",
       "      <td>621058</td>\n",
       "      <td>622053</td>\n",
       "      <td>chr1</td>\n",
       "      <td>927848</td>\n",
       "      <td>928157</td>\n",
       "      <td>ENSG00000185097.2:EH37E0064164</td>\n",
       "      <td>0</td>\n",
       "      <td>-</td>\n",
       "      <td>-</td>\n",
       "      <td>622052</td>\n",
       "    </tr>\n",
       "    <tr>\n",
       "      <th>2</th>\n",
       "      <td>chr1</td>\n",
       "      <td>657471</td>\n",
       "      <td>660283</td>\n",
       "      <td>chr1</td>\n",
       "      <td>927848</td>\n",
       "      <td>928157</td>\n",
       "      <td>ENSG00000229376.3:EH37E0064164</td>\n",
       "      <td>0</td>\n",
       "      <td>+</td>\n",
       "      <td>+</td>\n",
       "      <td>657471</td>\n",
       "    </tr>\n",
       "    <tr>\n",
       "      <th>3</th>\n",
       "      <td>chr1</td>\n",
       "      <td>677192</td>\n",
       "      <td>685396</td>\n",
       "      <td>chr1</td>\n",
       "      <td>927848</td>\n",
       "      <td>928157</td>\n",
       "      <td>ENSG00000235373.1:EH37E0064164</td>\n",
       "      <td>0</td>\n",
       "      <td>-</td>\n",
       "      <td>-</td>\n",
       "      <td>685395</td>\n",
       "    </tr>\n",
       "    <tr>\n",
       "      <th>4</th>\n",
       "      <td>chr1</td>\n",
       "      <td>677192</td>\n",
       "      <td>685396</td>\n",
       "      <td>chr1</td>\n",
       "      <td>974131</td>\n",
       "      <td>974485</td>\n",
       "      <td>ENSG00000235373.1:EH37E0064194</td>\n",
       "      <td>0</td>\n",
       "      <td>-</td>\n",
       "      <td>-</td>\n",
       "      <td>685395</td>\n",
       "    </tr>\n",
       "    <tr>\n",
       "      <th>...</th>\n",
       "      <td>...</td>\n",
       "      <td>...</td>\n",
       "      <td>...</td>\n",
       "      <td>...</td>\n",
       "      <td>...</td>\n",
       "      <td>...</td>\n",
       "      <td>...</td>\n",
       "      <td>...</td>\n",
       "      <td>...</td>\n",
       "      <td>...</td>\n",
       "      <td>...</td>\n",
       "    </tr>\n",
       "    <tr>\n",
       "      <th>375723</th>\n",
       "      <td>chrX</td>\n",
       "      <td>154687177</td>\n",
       "      <td>154687276</td>\n",
       "      <td>chrX</td>\n",
       "      <td>154459477</td>\n",
       "      <td>154459854</td>\n",
       "      <td>ENSG00000221603.1:EH37E1053818</td>\n",
       "      <td>0</td>\n",
       "      <td>+</td>\n",
       "      <td>+</td>\n",
       "      <td>154687177</td>\n",
       "    </tr>\n",
       "    <tr>\n",
       "      <th>375724</th>\n",
       "      <td>chrX</td>\n",
       "      <td>154689079</td>\n",
       "      <td>154689596</td>\n",
       "      <td>chrX</td>\n",
       "      <td>154459477</td>\n",
       "      <td>154459854</td>\n",
       "      <td>ENSG00000185978.4:EH37E1053818</td>\n",
       "      <td>0</td>\n",
       "      <td>-</td>\n",
       "      <td>-</td>\n",
       "      <td>154689595</td>\n",
       "    </tr>\n",
       "    <tr>\n",
       "      <th>375725</th>\n",
       "      <td>chrX</td>\n",
       "      <td>154695630</td>\n",
       "      <td>154841277</td>\n",
       "      <td>chrX</td>\n",
       "      <td>154459477</td>\n",
       "      <td>154459854</td>\n",
       "      <td>ENSG00000224533.3:EH37E1053818</td>\n",
       "      <td>0</td>\n",
       "      <td>+</td>\n",
       "      <td>+</td>\n",
       "      <td>154695630,154696200,154718983</td>\n",
       "    </tr>\n",
       "    <tr>\n",
       "      <th>375726</th>\n",
       "      <td>chrX</td>\n",
       "      <td>154697946</td>\n",
       "      <td>154716707</td>\n",
       "      <td>chrX</td>\n",
       "      <td>154459477</td>\n",
       "      <td>154459854</td>\n",
       "      <td>ENSG00000225393.1:EH37E1053818</td>\n",
       "      <td>0</td>\n",
       "      <td>+</td>\n",
       "      <td>+</td>\n",
       "      <td>154697946</td>\n",
       "    </tr>\n",
       "    <tr>\n",
       "      <th>375727</th>\n",
       "      <td>chrX</td>\n",
       "      <td>154719775</td>\n",
       "      <td>154899605</td>\n",
       "      <td>chrX</td>\n",
       "      <td>154459477</td>\n",
       "      <td>154459854</td>\n",
       "      <td>ENSG00000185973.6:EH37E1053818</td>\n",
       "      <td>0</td>\n",
       "      <td>-</td>\n",
       "      <td>-</td>\n",
       "      <td>154722149,154774937,154842537,154842555,154842...</td>\n",
       "    </tr>\n",
       "  </tbody>\n",
       "</table>\n",
       "<p>375728 rows × 11 columns</p>\n",
       "</div>"
      ],
      "text/plain": [
       "       chrom1     start1       end1 chrom2     start2       end2  \\\n",
       "0        chr1     536815     659930   chr1     927848     928157   \n",
       "1        chr1     621058     622053   chr1     927848     928157   \n",
       "2        chr1     657471     660283   chr1     927848     928157   \n",
       "3        chr1     677192     685396   chr1     927848     928157   \n",
       "4        chr1     677192     685396   chr1     974131     974485   \n",
       "...       ...        ...        ...    ...        ...        ...   \n",
       "375723   chrX  154687177  154687276   chrX  154459477  154459854   \n",
       "375724   chrX  154689079  154689596   chrX  154459477  154459854   \n",
       "375725   chrX  154695630  154841277   chrX  154459477  154459854   \n",
       "375726   chrX  154697946  154716707   chrX  154459477  154459854   \n",
       "375727   chrX  154719775  154899605   chrX  154459477  154459854   \n",
       "\n",
       "                                  name interaction strand1 strand2  \\\n",
       "0       ENSG00000230021.3:EH37E0064164           0       -       -   \n",
       "1       ENSG00000185097.2:EH37E0064164           0       -       -   \n",
       "2       ENSG00000229376.3:EH37E0064164           0       +       +   \n",
       "3       ENSG00000235373.1:EH37E0064164           0       -       -   \n",
       "4       ENSG00000235373.1:EH37E0064194           0       -       -   \n",
       "...                                ...         ...     ...     ...   \n",
       "375723  ENSG00000221603.1:EH37E1053818           0       +       +   \n",
       "375724  ENSG00000185978.4:EH37E1053818           0       -       -   \n",
       "375725  ENSG00000224533.3:EH37E1053818           0       +       +   \n",
       "375726  ENSG00000225393.1:EH37E1053818           0       +       +   \n",
       "375727  ENSG00000185973.6:EH37E1053818           0       -       -   \n",
       "\n",
       "                                                     TSSs  \n",
       "0                      655529,655573,655579,655579,659929  \n",
       "1                                                  622052  \n",
       "2                                                  657471  \n",
       "3                                                  685395  \n",
       "4                                                  685395  \n",
       "...                                                   ...  \n",
       "375723                                          154687177  \n",
       "375724                                          154689595  \n",
       "375725                      154695630,154696200,154718983  \n",
       "375726                                          154697946  \n",
       "375727  154722149,154774937,154842537,154842555,154842...  \n",
       "\n",
       "[375728 rows x 11 columns]"
      ]
     },
     "execution_count": 23,
     "metadata": {},
     "output_type": "execute_result"
    }
   ],
   "source": [
    "bedpe[0]"
   ]
  },
  {
   "cell_type": "markdown",
   "metadata": {},
   "source": [
    "### Export new dataframes to bedpe"
   ]
  },
  {
   "cell_type": "code",
   "execution_count": 10,
   "metadata": {},
   "outputs": [],
   "source": [
    "#for k in range(nb_benchmarks):\n",
    "#    bedpe[k].to_csv(path_to_benchmarks+file_names[k]+\".new.bedpe\",sep='\\t',header=False,index=False)\n",
    "#    with open(path_to_benchmarks+file_names[k]+'.header.new.bedpe.txt', 'w') as f:\n",
    "#        f.write(\"%s\\n\" % ', '.join(list(bedpe[k].columns)))"
   ]
  }
 ],
 "metadata": {
  "kernelspec": {
   "display_name": "Python 3",
   "language": "python",
   "name": "python3"
  },
  "language_info": {
   "codemirror_mode": {
    "name": "ipython",
    "version": 3
   },
   "file_extension": ".py",
   "mimetype": "text/x-python",
   "name": "python",
   "nbconvert_exporter": "python",
   "pygments_lexer": "ipython3",
   "version": "3.8.3"
  }
 },
 "nbformat": 4,
 "nbformat_minor": 4
}
