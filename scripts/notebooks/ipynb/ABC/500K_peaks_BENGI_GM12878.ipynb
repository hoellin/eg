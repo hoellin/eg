{
 "cells": [
  {
   "cell_type": "markdown",
   "metadata": {},
   "source": [
    "# ABC model over GM12878 with same accessions as for BENGI benchmarks, with more lenient DNase peaks and up to 500K peaks kept"
   ]
  },
  {
   "cell_type": "markdown",
   "metadata": {},
   "source": [
    "## How to use this notebook?\n",
    "First, make a copy of [this notebook](http://genoweb.toulouse.inra.fr/~thoellinger/stable/ipynb/ABC/500K_peaks_BENGI_GM12878.ipynb) on your computer / cluster.\n",
    "\n",
    "Then, to use this notebook, one should only have to carefully modify the content of the \"Set working directory\" section, then to execute the notebook cell by cell, in the correct order. After execution of each cell, remember to check for errors before executing the next one."
   ]
  },
  {
   "cell_type": "markdown",
   "metadata": {},
   "source": [
    "One can use the following to switch notebook theme:"
   ]
  },
  {
   "cell_type": "code",
   "execution_count": 11,
   "metadata": {},
   "outputs": [],
   "source": [
    "# night theme\n",
    "#!jt -t monokai -f fira -fs 10 -nf ptsans -nfs 11 -N -kl -cursw 2 -cursc r -cellw 95% -T"
   ]
  },
  {
   "cell_type": "code",
   "execution_count": 12,
   "metadata": {},
   "outputs": [],
   "source": [
    "# standard theme\n",
    "#!jt -r"
   ]
  },
  {
   "cell_type": "markdown",
   "metadata": {},
   "source": [
    "## Import required librairies"
   ]
  },
  {
   "cell_type": "code",
   "execution_count": 13,
   "metadata": {},
   "outputs": [],
   "source": [
    "import os.path #Or see https://stackoverflow.com/a/82852 for an object-oriented approach\n",
    "from IPython.core.magic import register_line_cell_magic"
   ]
  },
  {
   "cell_type": "code",
   "execution_count": 14,
   "metadata": {},
   "outputs": [],
   "source": [
    "@register_line_cell_magic\n",
    "def writetemplate(line, cell):\n",
    "    with open(line, 'w') as f:\n",
    "        f.write(cell.format(**globals()))"
   ]
  },
  {
   "cell_type": "markdown",
   "metadata": {},
   "source": [
    "## Set working directory"
   ]
  },
  {
   "cell_type": "code",
   "execution_count": 15,
   "metadata": {},
   "outputs": [],
   "source": [
    "mail_user = \"tristan.hoellinger@inserm.fr\" # slurm notifications\n",
    "version = \"hg19\" # used only in the current cell to compute some paths \n",
    "cell_type = \"gm12878\" # used all along the notebook\n",
    "specie = \"homo_sapiens/\"+version+\"/\" # used only in the current cell to compute some paths \n",
    "\n",
    "# Where to store run-specific references, scripts, intermediate files, predictions, etc\n",
    "work_dir = \"/work2/project/regenet/workspace/thoellinger/ABC-Enhancer-Gene-Prediction/500K_peaks_BENGI_GM12878/\"\n",
    "\n",
    "scripts = work_dir+\"hi_slurm/\" # where to store scripts specific to this run\n",
    "results_dir = \"/work2/project/regenet/results/\" # used to compute paths where data for this cell type is\n",
    "                                                # stored / will be downloaded\n",
    "dnase_dir = results_dir+\"dnaseseq/\"+specie+cell_type+'/'\n",
    "chipseq_dir = results_dir+\"chipseq/h3k27ac/\"+specie+cell_type+'/'\n",
    "expression_dir = results_dir+\"rnaseq/\"+specie+cell_type+'/'\n",
    "blacklist_dir = \"/work2/project/regenet/data/species/\"+specie # where the ENCODE blacklist is (going to be) stored\n",
    "\n",
    "blacklist = blacklist_dir+version+\"-blacklist.v2.bed.gz\" # need not exist yet\n",
    "\n",
    "# Gene annotation in the gtf format and gene name / gene id table (1st column id, 2nd column name)\n",
    "gene_annotation = \"/work2/project/fragencode/data/species/homo_sapiens/hg19.gencv19/homo_sapiens.gtf\"\n",
    "gnid_gname = \"/work2/project/fragencode/data/species/homo_sapiens/hg19.gencv19/homo_sapiens.gnid.gnname.tsv\"\n",
    "\n",
    "# Accessions for the current run. Just put accession numbers here, no need to download these accessions \"by hand\".\n",
    "dnase_rep1 = \"ENCFF664VNB\" # exp ENCSR000COQ\n",
    "dnase_rep2 = \"ENCFF790WER\" # exp ENCSR000COQ\n",
    "h3k27_rep1 = \"ENCFF197QHX\" # exp ENCSR000AKC\n",
    "h3k27_rep2 = \"ENCFF882PRP\" # exp ENCSR000AKC\n",
    "rnaseq_rep1 = \"ENCFF587ALK\" # exp ENCSR000COQ\n",
    "rnaseq_rep2 = \"ENCFF766CPS\" # exp ENCSR000COQ\n",
    "\n",
    "# Where to download the blacklist. Will not be used unless blacklist not found yet.\n",
    "blacklist_link = \"https://github.com/Boyle-Lab/Blacklist/raw/master/lists/hg19-blacklist.v2.bed.gz\"\n",
    "\n",
    "dnase_file_rep1 = dnase_dir+dnase_rep1+\".bam\" # do not change\n",
    "dnase_file_rep2 = dnase_dir+dnase_rep2+\".bam\"  # do not change\n",
    "h3k27_file_rep1 = chipseq_dir+h3k27_rep1+\".bam\"  # do not change\n",
    "h3k27_file_rep2 = chipseq_dir+h3k27_rep2+\".bam\"  # do not change\n",
    "rnaseq_file_rep1 = expression_dir+rnaseq_rep1+\".tsv\"  # do not change\n",
    "rnaseq_file_rep2 = expression_dir+rnaseq_rep2+\".tsv\"  # do not change\n",
    "\n",
    "reference_dir = work_dir+\"reference/\" # do not change\n",
    "annotations_dir = reference_dir+\"gene_annotation/\" # do not change\n",
    "peaks = work_dir+\"ABC_output/Peaks/\" # do not change\n",
    "neighborhoods = work_dir+\"ABC_output/Neighborhoods/\" # do not change\n",
    "predictions = work_dir+\"ABC_output/Predictions/\" # do not change\n",
    "\n",
    "light_annotation = annotations_dir+\"gene_ids.bed\"\n",
    "\n",
    "# Ubiquitously expressed genes (gene names). If provided, `ubiquitously_expressed_genes` will be\n",
    "# automatically generated with gene ids instead of gene names. If not (left empty), \n",
    "# `ubiquitously_expressed_genes` must be provided.\n",
    "ubiquitous_gene_names = work_dir+\"../reference/UbiquitouslyExpressedGenesHG19.txt\"\n",
    "# Ubiquitously expressed genes (gene ids). Please provide either `ubiquitously_expressed_genes` or\n",
    "# `ubiquitous_gene_names`\n",
    "ubiquitously_expressed_genes = reference_dir+\"UbiquitouslyExpressedGenes_ids.txt\" # need not exist\n",
    "\n",
    "compute_mean_expression = work_dir+\"../compute_mean_expression.awk\"\n",
    "# compute_mean_expression.awk computes an expression table (<gene id> <expression>) taking the mean\n",
    "# TPM expression found in the 2 input polyA+ RNA-seq tsv.\n",
    "\n",
    "make_candidate_regions = work_dir+\"../src/makeCandidateRegions.py\"\n",
    "run_neighborhoods = work_dir+\"../src/run.neighborhoods.py\"\n",
    "predict = work_dir+\"../src/predict.py\"\n",
    "\n",
    "genome_file = reference_dir+\"chr_sizes\" # shall not exist yet\n",
    "\n",
    "gene_expression_table = reference_dir+\"expression/\"+cell_type+\".\"+rnaseq_rep1+\"_\"+rnaseq_rep2+\".mean.TPM.txt\""
   ]
  },
  {
   "cell_type": "code",
   "execution_count": 16,
   "metadata": {},
   "outputs": [],
   "source": [
    "if not os.path.isdir(reference_dir):\n",
    "    !mkdir $reference_dir\n",
    "if not os.path.isdir(scripts):\n",
    "    !mkdir $scripts"
   ]
  },
  {
   "cell_type": "code",
   "execution_count": 17,
   "metadata": {},
   "outputs": [],
   "source": [
    "# One may only change what is between quotes here\n",
    "slurm_1_1 = scripts+\"step1.1.sh\"\n",
    "slurm_1_2 = scripts+\"step1.2.sh\"\n",
    "slurm_1_3 = scripts+\"step1.3.sh\"\n",
    "slurm_2 = scripts+\"step2.sh\"\n",
    "slurm_3 = scripts+\"step3.sh\""
   ]
  },
  {
   "cell_type": "code",
   "execution_count": 18,
   "metadata": {},
   "outputs": [],
   "source": [
    "ccREs_dir = results_dir+\"ccREs/\"+specie+\"V1/\"+cell_type+'/'\n",
    "\n",
    "ccREs_accession = \"ENCFF028SGJ\" # ENCODE ccREs with annotations for the cell type considered\n",
    "TSS_list = \"/work2/project/regenet/workspace/thoellinger/BENGI/Benchmark/Annotations/GENCODEv19-TSSs.bed\"\n",
    "\n",
    "ccREs = ccREs_dir+ccREs_accession+\".bed\" # need not exist yet\n",
    "ccREs_ELS = ccREs_dir+cell_type+\"_ccRE_ELSs.bed\" # need not exist yet\n",
    "ccREs_dELS = ccREs_dir+cell_type+\"_ccRE_dELSs.bed\" # need not exist yet"
   ]
  },
  {
   "cell_type": "markdown",
   "metadata": {},
   "source": [
    "## Data acquisition"
   ]
  },
  {
   "cell_type": "markdown",
   "metadata": {},
   "source": [
    "### Chromatin accessibility (DNase-seq)"
   ]
  },
  {
   "cell_type": "code",
   "execution_count": 8,
   "metadata": {},
   "outputs": [],
   "source": [
    "if not os.path.isfile(dnase_file_rep1):\n",
    "    !wget https://www.encodeproject.org/files/$dnase_rep1/@@download/$dnase_rep1$\".bam\" -P $dnase_dir\n",
    "            \n",
    "if not os.path.isfile(dnase_file_rep2):\n",
    "    !wget https://www.encodeproject.org/files/$dnase_rep2/@@download/$dnase_rep2$\".bam\" -P $dnase_dir"
   ]
  },
  {
   "cell_type": "markdown",
   "metadata": {},
   "source": [
    "### Blacklist"
   ]
  },
  {
   "cell_type": "code",
   "execution_count": 9,
   "metadata": {},
   "outputs": [],
   "source": [
    "if not os.path.isfile(blacklist):\n",
    "    !wget $blacklist_link -P $blacklist_dir"
   ]
  },
  {
   "cell_type": "markdown",
   "metadata": {},
   "source": [
    "### Histone mark H3K27ac ChIP-seq"
   ]
  },
  {
   "cell_type": "code",
   "execution_count": 10,
   "metadata": {},
   "outputs": [],
   "source": [
    "if not os.path.isfile(h3k27_file_rep1):\n",
    "    !wget https://www.encodeproject.org/files/$h3k27_rep1/@@download/$h3k27_rep1$\".bam\" -P $chipseq_dir\n",
    "            \n",
    "if not os.path.isfile(h3k27_file_rep2):\n",
    "    !wget https://www.encodeproject.org/files/$h3k27_rep2/@@download/$h3k27_rep2$\".bam\" -P $chipseq_dir"
   ]
  },
  {
   "cell_type": "markdown",
   "metadata": {},
   "source": [
    "### Gene expression (polyA+ RNA-seq)"
   ]
  },
  {
   "cell_type": "code",
   "execution_count": 11,
   "metadata": {},
   "outputs": [],
   "source": [
    "if not os.path.isfile(rnaseq_file_rep1):\n",
    "    !wget https://www.encodeproject.org/files/$rnaseq_rep1/@@download/$rnaseq_rep1$\".bam\" -P $expression_dir\n",
    "            \n",
    "if not os.path.isfile(rnaseq_file_rep2):\n",
    "    !wget https://www.encodeproject.org/files/$rnaseq_rep2/@@download/$rnaseq_rep2$\".bam\" -P $expression_dir"
   ]
  },
  {
   "cell_type": "markdown",
   "metadata": {},
   "source": [
    "### Ubiquitously expressed genes"
   ]
  },
  {
   "cell_type": "code",
   "execution_count": 12,
   "metadata": {},
   "outputs": [],
   "source": [
    "%%bash -s \"$gnid_gname\" \"$ubiquitous_gene_names\" \"$ubiquitously_expressed_genes\"\n",
    "if [[ -f $2 ]] && [[ ! -f $3 ]]; then\n",
    "    awk 'BEGIN{sep=\"\\t\"} NR==FNR {id[$2]=$1; next} id[$1] {print id[$1]}' $1 $2 > $3\n",
    "fi"
   ]
  },
  {
   "cell_type": "markdown",
   "metadata": {},
   "source": [
    "### Genome file"
   ]
  },
  {
   "cell_type": "code",
   "execution_count": 14,
   "metadata": {},
   "outputs": [],
   "source": [
    "%%bash -s \"$work_dir\" \"$dnase_file_rep1\" \"$genome_file\"\n",
    "CONDA_BASE=$(conda info --base) && source $CONDA_BASE/etc/profile.d/conda.sh\n",
    "conda activate base && module load bioinfo/samtools-1.9\n",
    "samtools view -H $2 | grep SQ | cut -f 2,3 |cut -c 4- |awk 'BEGIN{FS=\"\\t\"} {split($2,locus,\":\"); if($1 ~ /^(chr)([0-9]{1,2}$)|(M$)|(X$)|(Y$)/){print($1\"\\t\"locus[2])}}' > $3\n",
    "awk '{print $1\"\\t\"0\"\\t\"$2}' $3 > $3\".bed\""
   ]
  },
  {
   "cell_type": "markdown",
   "metadata": {},
   "source": [
    "### ccREs\n",
    "We  need to download ccREs with annotations for this cell type, in order to intersect ABC predictions with distal ccREs with Enhancer-like signature, to later intersect them with BENGI datasets. The correct accession can be found in Supplentary Figure 1 Table S1a of Moore et al. 2020."
   ]
  },
  {
   "cell_type": "code",
   "execution_count": 10,
   "metadata": {},
   "outputs": [],
   "source": [
    "if not os.path.isfile(ccREs+\".gz\"):\n",
    "    !wget https://www.encodeproject.org/files/$ccREs_accession/@@download/$ccREs_accession$\".bed.gz\" -P $ccREs_dir\n",
    "        \n",
    "if not os.path.isfile(ccREs):\n",
    "    !gzip -cd $ccREs\".gz\" > $ccREs"
   ]
  },
  {
   "cell_type": "markdown",
   "metadata": {},
   "source": [
    "## Data reprocessing\n",
    "\n",
    "### Create expression table\n",
    "\n",
    "We use `compute_mean_expression.awk` to take as the reference TPM value, the mean value for the 2 replicates."
   ]
  },
  {
   "cell_type": "code",
   "execution_count": 15,
   "metadata": {},
   "outputs": [],
   "source": [
    "%%bash -s \"$compute_mean_expression\" \"$reference_dir\" \"$rnaseq_file_rep1\" \"$rnaseq_file_rep2\" \"$cell_type\" \"$rnaseq_rep1\" \"$rnaseq_rep2\"\n",
    "if [[ ! -d $2\"expression/\" ]]; then mkdir $2\"expression/\"; fi\n",
    "awk -f $1 $3 $4 > $2\"expression/\"$5\".\"$6\"_\"$7\".mean.TPM.txt\""
   ]
  },
  {
   "cell_type": "markdown",
   "metadata": {},
   "source": [
    "### Filter gene annotation\n",
    "\n",
    "We keep genes only, and `gene_ids.bed` must fit following format:\n",
    "> ```bash\n",
    "> chrX\t99883667\t99894988\tENSG00000000003.10\t0\t-\n",
    "> chrX\t99839799\t99854882\tENSG00000000005.5\t0\t+\n",
    "> ```"
   ]
  },
  {
   "cell_type": "code",
   "execution_count": 16,
   "metadata": {},
   "outputs": [],
   "source": [
    "%%bash -s \"$work_dir\" \"$genome_file\" \"$light_annotation\" \"$gene_annotation\"\n",
    "if [[ ! -d $3 ]]; then mkdir $3; fi\n",
    "CONDA_BASE=$(conda info --base) && source $CONDA_BASE/etc/profile.d/conda.sh\n",
    "conda activate base && module load bioinfo/bedtools-2.27.1\n",
    "awk '{if(NR==FNR){!genome[$1]++; next}; if(genome[$1]){if($3 ~ /(^gene$)/){print $1\"\\t\"$4\"\\t\"$5\"\\t\"substr($10,2,length($10)-3)\"\\t\"0\"\\t\"$7}}}' $2 $4 | bedtools sort -g $2 -i stdin > $3"
   ]
  },
  {
   "cell_type": "markdown",
   "metadata": {},
   "source": [
    "## Running the ABC model"
   ]
  },
  {
   "cell_type": "markdown",
   "metadata": {},
   "source": [
    "### Step 1: define candidate elements\n",
    "\n",
    "#### Call peaks with `macs2`"
   ]
  },
  {
   "cell_type": "code",
   "execution_count": 18,
   "metadata": {},
   "outputs": [],
   "source": [
    "%%writetemplate $slurm_1_1\n",
    "#!/bin/sh                                                                                                                                                                                                                    \n",
    "# dependencies: python2\n",
    "macs2 callpeak \\\n",
    "-t {dnase_file_rep1} {dnase_file_rep2} \\\n",
    "-n {dnase_rep1}_{dnase_rep2}.macs2 \\\n",
    "-f BAM \\\n",
    "-g hs \\\n",
    "-p .2 \\\n",
    "--call-summits \\\n",
    "--outdir {peaks}"
   ]
  },
  {
   "cell_type": "code",
   "execution_count": 19,
   "metadata": {},
   "outputs": [
    {
     "name": "stdout",
     "output_type": "stream",
     "text": [
      "Submitted batch job 22130631\n"
     ]
    }
   ],
   "source": [
    "%%bash -s \"$work_dir\" \"$slurm_1_1\" \"$mail_user\"\n",
    "CONDA_BASE=$(conda info --base) && source $CONDA_BASE/etc/profile.d/conda.sh\n",
    "conda activate base && conda activate abcmodel\n",
    "module load bioinfo/samtools-1.9 bioinfo/bedtools-2.27.1 bioinfo/tabix-0.2.5 bioinfo/juicer-1.5.6\n",
    "conda activate py2 && module load system/Python-2.7.2\n",
    "sbatch --mem=4G --cpus-per-task=1 -J step1.1 --mail-user=$3 --mail-type=END,FAIL --workdir=$1 --export=ALL -p workq $2\n",
    "conda deactivate && module unload system/Python-2.7.2"
   ]
  },
  {
   "cell_type": "markdown",
   "metadata": {},
   "source": [
    "#### Use ABC `makeCandidateRegions.py` to define candidate regions\n",
    "\n",
    "As there are peaks over many kinds of scaffolds listed in the `.narrowPeak` and `.xls` output files, we modify them keep only chromosomes only (otherwise `bedtools sort` below would not work). **But we have to keep in mind that the `.r` will still corresponds to DNase peaks over all scaffolds**."
   ]
  },
  {
   "cell_type": "code",
   "execution_count": 33,
   "metadata": {},
   "outputs": [],
   "source": [
    "%%bash -s \"$peaks\" \"$dnase_rep1\" \"$dnase_rep2\"\n",
    "awk '$1 ~ /^(chr)([0-9]{1,2}$)|(M$)|(X$)|(Y$)/ {print $0}' $1$2\"_\"$3\".macs2_peaks.narrowPeak\" > $1/$2\"_\"$3\".chromosomes_only.macs2_peaks.narrowPeak\"\n",
    "awk 'NR <= 28 || $1 ~ /^(chr)([0-9]{1,2}$)|(M$)|(X$)|(Y$)/ {print $0}' $1$2\"_\"$3\".macs2_peaks.xls\" > $1$2\"_\"$3\".chromosomes_only.macs2_peaks.xls\""
   ]
  },
  {
   "cell_type": "markdown",
   "metadata": {},
   "source": [
    "Now we sort the result (note that it seems quite tricky to use `srun` from a notebook as we first need to export environment variables - maybe there is another way but as for now I could not find better):"
   ]
  },
  {
   "cell_type": "code",
   "execution_count": 34,
   "metadata": {},
   "outputs": [
    {
     "name": "stderr",
     "output_type": "stream",
     "text": [
      "srun: job 22134742 queued and waiting for resources\n",
      "srun: job 22134742 has been allocated resources\n"
     ]
    }
   ],
   "source": [
    "%%bash -s \"$peaks\" \"$dnase_rep1\" \"$dnase_rep2\" \"$genome_file\"\n",
    "export V1=$1 V2=$2 V3=$3 V4=$4\n",
    "CONDA_BASE=$(conda info --base) && source $CONDA_BASE/etc/profile.d/conda.sh\n",
    "conda activate base && conda activate abcmodel\n",
    "module load bioinfo/bedtools-2.27.1\n",
    "srun bash\n",
    "bedtools sort -faidx $V4 -i $V1$V2\"_\"$V3\".chromosomes_only.macs2_peaks.narrowPeak\" > $V1$V2\"_\"$V3\".macs2_peaks.narrowPeak.sorted\""
   ]
  },
  {
   "cell_type": "markdown",
   "metadata": {},
   "source": [
    "Now as `work_dir ../src/makeCandidateRegions.py` does not support multiple `bam` inputs, we concatenate the bam of the 2 replicates.  Indeed, `makeCandidateRegions.py` will use the bam input to count DNase reads on each peak of the`.macs2_peaks.narrowPeak.sorted` output found with `macs2`.\n",
    "\n",
    "(WARNING: depending on the size of the input bam, which is much variable, the execution on 1 thread only can take from a few minutes to several hours, so better use at least 8 threads)"
   ]
  },
  {
   "cell_type": "code",
   "execution_count": 35,
   "metadata": {},
   "outputs": [],
   "source": [
    "n_threads = 8 #we recommend using at least 8 cpu"
   ]
  },
  {
   "cell_type": "code",
   "execution_count": 38,
   "metadata": {},
   "outputs": [],
   "source": [
    "%%writetemplate $slurm_1_2\n",
    "#!/bin/sh\n",
    "# dependencies: bioinfo/samtools-1.9 bioinfo/bedtools-2.27.1\n",
    "\n",
    "if [[ ! -f {dnase_dir}{dnase_rep1}_{dnase_rep2}.bam ]]\n",
    "then\n",
    "    if [[ ! -f {dnase_dir}{dnase_rep1}_{dnase_rep2}.sam ]]\n",
    "    then\n",
    "        samtools view -@ {n_threads} -h {dnase_file_rep1} > {dnase_dir}{dnase_rep1}_{dnase_rep2}.sam\n",
    "        samtools view -@ {n_threads} {dnase_file_rep2} >> {dnase_dir}{dnase_rep1}_{dnase_rep2}.sam\n",
    "        samtools view -@ {n_threads} -S -b {dnase_dir}{dnase_rep1}_{dnase_rep2}.sam > {dnase_dir}{dnase_rep1}_{dnase_rep2}.bam\n",
    "        rm {dnase_dir}{dnase_rep1}_{dnase_rep2}.sam\n",
    "    else\n",
    "        samtools view -@ {n_threads} -S -b {dnase_dir}{dnase_rep1}_{dnase_rep2}.sam > {dnase_dir}{dnase_rep1}_{dnase_rep2}.bam\n",
    "    fi\n",
    "fi"
   ]
  },
  {
   "cell_type": "code",
   "execution_count": 39,
   "metadata": {},
   "outputs": [
    {
     "name": "stdout",
     "output_type": "stream",
     "text": [
      "Submitted batch job 22138998\n"
     ]
    }
   ],
   "source": [
    "%%bash -s \"$work_dir\" \"$slurm_1_2\" \"$mail_user\"\n",
    "CONDA_BASE=$(conda info --base) && source $CONDA_BASE/etc/profile.d/conda.sh\n",
    "conda activate base && conda activate abcmodel\n",
    "module load bioinfo/samtools-1.9\n",
    "sbatch --mem=2G --cpus-per-task=8 -J step1.2 --mail-user=$3 --mail-type=END,FAIL --workdir=$1 --export=ALL -p workq $2"
   ]
  },
  {
   "cell_type": "markdown",
   "metadata": {},
   "source": [
    "Now we can launch `makeCandidateRegions` on slurm:"
   ]
  },
  {
   "cell_type": "code",
   "execution_count": 43,
   "metadata": {},
   "outputs": [],
   "source": [
    "%%writetemplate $slurm_1_3\n",
    "#!/bin/sh\n",
    "# dependencies: python3 bioinfo/samtools-1.9 bioinfo/bedtools-2.27.1 bioinfo/tabix-0.2.5 bioinfo/juicer-1.5.6\n",
    "python {make_candidate_regions} \\\n",
    "--narrowPeak {peaks}{dnase_rep1}_{dnase_rep2}.macs2_peaks.narrowPeak.sorted \\\n",
    "--bam {dnase_dir}{dnase_rep1}_{dnase_rep2}.bam \\\n",
    "--outDir {peaks} \\\n",
    "--chrom_sizes {genome_file} \\\n",
    "--regions_blacklist {blacklist} \\\n",
    "--peakExtendFromSummit 250 \\\n",
    "--nStrongestPeaks 500000\n",
    "#Expected output: params.txt, foo1_foo2.macs2_peaks.narrowPeak.sorted.candidateRegions.bed, foo1_foo2.macs2_peaks.narrowPeak.sorted.foo1_foo2.bam.Counts.bed"
   ]
  },
  {
   "cell_type": "markdown",
   "metadata": {},
   "source": [
    "WARNING: depending on the length of the inputs, this script may be very RAM-demanding. So we recommend to allocate at least 16 GB RAM to avoid \"out of memory\" errors."
   ]
  },
  {
   "cell_type": "code",
   "execution_count": 44,
   "metadata": {},
   "outputs": [
    {
     "name": "stdout",
     "output_type": "stream",
     "text": [
      "Submitted batch job 22139094\n"
     ]
    }
   ],
   "source": [
    "%%bash -s \"$work_dir\" \"$slurm_1_3\" \"$mail_user\"\n",
    "CONDA_BASE=$(conda info --base) && source $CONDA_BASE/etc/profile.d/conda.sh\n",
    "conda activate base && conda activate abcmodel\n",
    "module load bioinfo/samtools-1.9 bioinfo/bedtools-2.27.1 bioinfo/tabix-0.2.5 bioinfo/juicer-1.5.6\n",
    "sbatch --mem=16G --cpus-per-task=1 -J step1.3 --mail-user=$3 --mail-type=END,FAIL --workdir=$1 --export=ALL -p workq $2"
   ]
  },
  {
   "cell_type": "markdown",
   "metadata": {},
   "source": [
    "### Step 2: quantifying enhancer activity\n",
    "\n",
    "#### Use ABC `run.neighborhoods.py`"
   ]
  },
  {
   "cell_type": "code",
   "execution_count": 51,
   "metadata": {},
   "outputs": [],
   "source": [
    "%%writetemplate $slurm_2\n",
    "#!/bin/sh\n",
    "python {run_neighborhoods} \\\n",
    "--candidate_enhancer_regions {peaks}{dnase_rep1}_{dnase_rep2}.macs2_peaks.narrowPeak.sorted.candidateRegions.bed \\\n",
    "--genes {annotations_dir}gene_ids.bed \\\n",
    "--H3K27ac {h3k27_file_rep1},{h3k27_file_rep1} \\\n",
    "--DHS {dnase_file_rep1},{dnase_file_rep2} \\\n",
    "--expression_table {gene_expression_table}  \\\n",
    "--chrom_sizes {genome_file} \\\n",
    "--ubiquitously_expressed_genes {ubiquitously_expressed_genes} \\\n",
    "--cellType {cell_type} \\\n",
    "--outdir {neighborhoods}"
   ]
  },
  {
   "cell_type": "markdown",
   "metadata": {},
   "source": [
    "WARNING: depending on the length of the inputs, this script may be very RAM-demanding. So we recommend to allocate at least 32 GB RAM to avoid \"out of memory\" errors."
   ]
  },
  {
   "cell_type": "code",
   "execution_count": 52,
   "metadata": {},
   "outputs": [
    {
     "name": "stdout",
     "output_type": "stream",
     "text": [
      "Submitted batch job 22142275\n"
     ]
    }
   ],
   "source": [
    "%%bash -s \"$work_dir\" \"$slurm_2\" \"$mail_user\"\n",
    "CONDA_BASE=$(conda info --base) && source $CONDA_BASE/etc/profile.d/conda.sh\n",
    "conda activate base && conda activate abcmodel\n",
    "module load bioinfo/samtools-1.9 bioinfo/bedtools-2.27.1 bioinfo/tabix-0.2.5 bioinfo/juicer-1.5.6\n",
    "sbatch --mem=32G --cpus-per-task=1 -J step2 --mail-user=$3 --mail-type=END,FAIL --workdir=$1 --export=ALL -p workq $2"
   ]
  },
  {
   "cell_type": "code",
   "execution_count": 64,
   "metadata": {},
   "outputs": [
    {
     "name": "stdout",
     "output_type": "stream",
     "text": [
      "Job ID: 22142275\r\n",
      "Cluster: genobull\r\n",
      "User/Group: thoellinger/U1220\r\n",
      "State: COMPLETED (exit code 0)\r\n",
      "Cores: 1\r\n",
      "CPU Utilized: 03:38:04\r\n",
      "CPU Efficiency: 99.84% of 03:38:25 core-walltime\r\n",
      "Job Wall-clock time: 03:38:25\r\n",
      "Memory Utilized: 11.83 GB\r\n",
      "Memory Efficiency: 36.97% of 32.00 GB\r\n"
     ]
    }
   ],
   "source": [
    "!seff 22142275"
   ]
  },
  {
   "cell_type": "markdown",
   "metadata": {},
   "source": [
    "### Step 3: computing the ABC score\n",
    "\n",
    "If experimentally derived contact data is not available, one can run the ABC model using the powerlaw estimate only. In this case the ```--HiCdir``` argument should be excluded from ```predict.py``` and the ```--score_column powerlaw.Score``` argument should be included in ```predict.py```. In this case the ```ABC.Score``` column of the predictions file will be set to ```NaN```. The ```powerlaw.Score``` column of the output prediction files will be the relevant Score column to use."
   ]
  },
  {
   "cell_type": "code",
   "execution_count": 65,
   "metadata": {},
   "outputs": [],
   "source": [
    "%%writetemplate $slurm_3\n",
    "#!/bin/sh\n",
    "python {predict} \\\n",
    "--enhancers {neighborhoods}EnhancerList.txt \\\n",
    "--genes {neighborhoods}GeneList.txt \\\n",
    "--score_column powerlaw.Score \\\n",
    "--hic_resolution 5000 \\\n",
    "--scale_hic_using_powerlaw \\\n",
    "--threshold .02 \\\n",
    "--cellType {cell_type} \\\n",
    "--outdir {predictions} \\\n",
    "--make_all_putative"
   ]
  },
  {
   "cell_type": "markdown",
   "metadata": {},
   "source": [
    "Again, that step is very RAM-demanding so we recommend to allocate at least 32G of RAM."
   ]
  },
  {
   "cell_type": "code",
   "execution_count": 66,
   "metadata": {},
   "outputs": [
    {
     "name": "stdout",
     "output_type": "stream",
     "text": [
      "Submitted batch job 22149081\n"
     ]
    }
   ],
   "source": [
    "%%bash -s \"$work_dir\" \"$slurm_3\" \"$mail_user\"\n",
    "CONDA_BASE=$(conda info --base) && source $CONDA_BASE/etc/profile.d/conda.sh\n",
    "conda activate base && conda activate abcmodel\n",
    "module load bioinfo/samtools-1.9 bioinfo/bedtools-2.27.1 bioinfo/tabix-0.2.5 bioinfo/juicer-1.5.6\n",
    "sbatch --mem=64G --cpus-per-task=1 -J step3 --mail-user=$3 --mail-type=END,FAIL --workdir=$1 --export=ALL -p workq $2"
   ]
  },
  {
   "cell_type": "code",
   "execution_count": 76,
   "metadata": {},
   "outputs": [
    {
     "name": "stdout",
     "output_type": "stream",
     "text": [
      "Job ID: 22149081\r\n",
      "Cluster: genobull\r\n",
      "User/Group: thoellinger/U1220\r\n",
      "State: COMPLETED (exit code 0)\r\n",
      "Cores: 1\r\n",
      "CPU Utilized: 00:46:33\r\n",
      "CPU Efficiency: 99.82% of 00:46:38 core-walltime\r\n",
      "Job Wall-clock time: 00:46:38\r\n",
      "Memory Utilized: 31.46 GB\r\n",
      "Memory Efficiency: 98.33% of 32.00 GB\r\n"
     ]
    }
   ],
   "source": [
    "!seff 22149081"
   ]
  },
  {
   "cell_type": "markdown",
   "metadata": {},
   "source": [
    "## Evaluation of ABC predictions on BENGI datasets"
   ]
  },
  {
   "cell_type": "markdown",
   "metadata": {},
   "source": [
    "### Find ccRE-dELSs"
   ]
  },
  {
   "cell_type": "code",
   "execution_count": 19,
   "metadata": {},
   "outputs": [],
   "source": [
    "%%bash -s \"$ccREs\" \"$ccREs_ELS\" \"$genome_file\"\n",
    "if [[ ! -f $2 || ! -f $2\".sorted\" ]]\n",
    "then\n",
    "    export V1=$1 V2=$2 V3=$3\n",
    "    awk -v OFS='\\t' '$9 ~ /(^255,205,0)/ {print $1, $2, $3, \".\", $4, \"Enhancer-like\"}' $V1 > $V2\n",
    "    srun bash\n",
    "    bedtools sort -faidx $V3 -i $V2 > $V2\".sorted\"\n",
    "fi"
   ]
  },
  {
   "cell_type": "markdown",
   "metadata": {},
   "source": [
    "Then using `bedtools closest` we keep only distal ccRE-ELS (ie greater than 2 kb from an annotated TSS, GENCODE v19)."
   ]
  },
  {
   "cell_type": "code",
   "execution_count": 20,
   "metadata": {},
   "outputs": [],
   "source": [
    "%%bash -s \"$genome_file\" \"$ccREs_ELS\" \"$TSS_list\" \"$ccREs_dELS\" \"$genome_file\"\n",
    "if [[ ! -f $4 ]]\n",
    "then\n",
    "    export V1=$1 V2=$2 V3=$3 V4=$4 V5=$5\n",
    "    CONDA_BASE=$(conda info --base) && source $CONDA_BASE/etc/profile.d/conda.sh\n",
    "    conda activate base && conda activate abcmodel\n",
    "    module load bioinfo/bedtools-2.27.1\n",
    "    srun bash\n",
    "    awk '{if(NR==FNR){chr[$1]++; next}; if(chr[$1]){print $0}}' $V5 $V3 | bedtools sort -faidx $V5 -i stdin | bedtools closest -d -t \"first\" -g $V1 -a $V2\".sorted\" -b stdin | awk -v OFS='\\t' '$14 >= 2000 {print $1, $2, $3, $4, $5, \"distal-ELS\"}' > $V4\n",
    "fi"
   ]
  },
  {
   "cell_type": "markdown",
   "metadata": {},
   "source": [
    "### Data processing"
   ]
  },
  {
   "cell_type": "code",
   "execution_count": 21,
   "metadata": {},
   "outputs": [],
   "source": [
    "predictions_non_expressed = predictions+\"EnhancerPredictionsAllPutativeNonExpressedGenes.txt\"\n",
    "predictions_expressed = predictions+\"EnhancerPredictionsAllPutative.txt\"\n",
    "all_predictions = predictions+\"AllPredictions.bedpe\" # does not exist yet\n",
    "all_predictions_sorted = all_predictions+\".sorted\"\n",
    "all_predictions_ccre_els = all_predictions_sorted+\".ccRE_intersect.txt\"\n",
    "all_predictions_ccre_els_bedpe = all_predictions_sorted+\".ccRE_intersect.bedpe\"\n",
    "\n",
    "bengi = \"/work2/project/regenet/workspace/thoellinger/BENGI/Benchmark/All-Pairs.Natural-Ratio/\"\n",
    "nb_benchmarks = 6\n",
    "file_names = list()\n",
    "# benchmark file names without extensions\n",
    "file_names.append(\"GM12878.CHiC-Benchmark.v3\")\n",
    "file_names.append(\"GM12878.CTCF-ChIAPET-Benchmark.v3\")\n",
    "file_names.append(\"GM12878.GEUVADIS-Benchmark.v3\")\n",
    "file_names.append(\"GM12878.GTEx-Benchmark.v3\")\n",
    "file_names.append(\"GM12878.HiC-Benchmark.v3\")\n",
    "file_names.append(\"GM12878.RNAPII-ChIAPET-Benchmark.v3\")\n",
    "\n",
    "# short custom names for benchmarks, same order as above\n",
    "names = [\"CHiC\", \"CTCF\", \"GEUVADIS\", \"GTEx\", \"HiC\", \"RNAPII\"]\n",
    "\n",
    "files_dict = {}\n",
    "for k in range(nb_benchmarks):\n",
    "    files_dict[names[k]] = bengi+file_names[k]+\".new.bedpe\""
   ]
  },
  {
   "cell_type": "markdown",
   "metadata": {},
   "source": [
    "Unzip ABC predictions."
   ]
  },
  {
   "cell_type": "code",
   "execution_count": 22,
   "metadata": {},
   "outputs": [],
   "source": [
    "if not os.path.isfile(predictions_non_expressed):\n",
    "    !gzip -cd $predictions_non_expressed\".gz\" > $predictions_non_expressed\n",
    "if not os.path.isfile(predictions_expressed):\n",
    "    !gzip -cd $predictions_expressed\".gz\" > $predictions_expressed    "
   ]
  },
  {
   "cell_type": "markdown",
   "metadata": {},
   "source": [
    "Merge ABC predictions for expressed and non expressed genes, keep only columns of interest and sort the result."
   ]
  },
  {
   "cell_type": "code",
   "execution_count": 23,
   "metadata": {},
   "outputs": [],
   "source": [
    "%%bash -s \"$all_predictions\" \"$predictions_expressed\" \"$predictions_non_expressed\"\n",
    "if [[ ! -f $1 ]]\n",
    "then\n",
    "    awk '{print $1\"\\t\"$2\"\\t\"$3\"\\t\"$1\"\\t\"$10\"\\t\"$10\"\\t\"$9\"\\t\"$20\"\\t.\\t.\\t\"$13\"\\t\"$11}' $2 > $1;\n",
    "    tail -n+2 $3 | awk '{print $1\"\\t\"$2\"\\t\"$3\"\\t\"$1\"\\t\"$10\"\\t\"$10\"\\t\"$9\"\\t\"$20\"\\t.\\t.\\t\"$13\"\\t\"$11}' >> $1;\n",
    "fi"
   ]
  },
  {
   "cell_type": "markdown",
   "metadata": {},
   "source": [
    "The following is very RAM-demanding, we recommend using at least 64GB of ram to avoid \"out of memory\" errors."
   ]
  },
  {
   "cell_type": "code",
   "execution_count": 24,
   "metadata": {},
   "outputs": [
    {
     "name": "stderr",
     "output_type": "stream",
     "text": [
      "srun: job 22250468 queued and waiting for resources\n",
      "srun: job 22250468 has been allocated resources\n"
     ]
    }
   ],
   "source": [
    "%%bash -s \"$all_predictions\" \"$all_predictions_sorted\" \"$genome_file\"\n",
    "if [[ ! -f $V2 ]]\n",
    "then\n",
    "    export V1=$1 V2=$2 V3=$3\n",
    "    CONDA_BASE=$(conda info --base) && source $CONDA_BASE/etc/profile.d/conda.sh\n",
    "    conda activate base && conda activate abcmodel\n",
    "    module load bioinfo/bedtools-2.27.1\n",
    "    srun --mem=64G bash\n",
    "    tail -n+2 $V1 | bedtools sort -faidx $V3 -i stdin  > $V2\n",
    "fi"
   ]
  },
  {
   "cell_type": "markdown",
   "metadata": {},
   "source": [
    "Intersect ABC candidate regions with ccRE-ELS."
   ]
  },
  {
   "cell_type": "code",
   "execution_count": 25,
   "metadata": {},
   "outputs": [
    {
     "name": "stderr",
     "output_type": "stream",
     "text": [
      "srun: job 22250614 queued and waiting for resources\n",
      "srun: job 22250614 has been allocated resources\n"
     ]
    }
   ],
   "source": [
    "%%bash -s \"$ccREs_dELS\" \"$all_predictions_sorted\" \"$all_predictions_ccre_els\" \"$genome_file\"\n",
    "if [[ ! -f $3 ]]\n",
    "then\n",
    "    export V1=$1 V2=$2 V3=$3 V4=$4\n",
    "    CONDA_BASE=$(conda info --base) && source $CONDA_BASE/etc/profile.d/conda.sh\n",
    "    conda activate base && conda activate abcmodel\n",
    "    module load bioinfo/bedtools-2.27.1\n",
    "    srun --mem=32G bash\n",
    "    bedtools intersect -sorted -wo -g $V4 -a $V1 -b $V2 > $V3\n",
    "fi"
   ]
  },
  {
   "cell_type": "markdown",
   "metadata": {},
   "source": [
    "When multiple ABC candidate enhancers for a given gene overlap the same ccRE-ELS, keep only the one that maximize the ABC score (the \"powerlaw.Score\" if ABC ran without 3D data)."
   ]
  },
  {
   "cell_type": "code",
   "execution_count": 26,
   "metadata": {},
   "outputs": [
    {
     "name": "stderr",
     "output_type": "stream",
     "text": [
      "srun: job 22250736 queued and waiting for resources\n",
      "srun: job 22250736 has been allocated resources\n"
     ]
    }
   ],
   "source": [
    "%%bash -s \"$light_annotation\" \"$all_predictions_ccre_els\" \"$all_predictions_ccre_els_bedpe\"\n",
    "if [[ ! -f $3 ]]\n",
    "then\n",
    "    export V1=$1 V2=$2 V3=$3\n",
    "    CONDA_BASE=$(conda info --base) && source $CONDA_BASE/etc/profile.d/conda.sh\n",
    "    conda activate base && conda activate abcmodel\n",
    "    module load bioinfo/bedtools-2.27.1\n",
    "    srun --mem=32G bash\n",
    "    awk '{ \\\n",
    "        if(NR==FNR){ \\\n",
    "            start[$4]=$2; \\\n",
    "            end[$4]=$3; \\\n",
    "            next; \\\n",
    "        }; \\\n",
    "        if(!pair[$5$13]){ \\\n",
    "            pair[$5$13]=$1\"\\t\"start[$13]\"\\t\"end[$13]\"\\t\"$1\"\\t\"$2\"\\t\"$3\"\\t\"$13\":\"$5\"\\t\"$14\"\\t\"$15\"\\t\"$16\"\\t\"$2\"\\t\"$19\"\\t\"$17\"\\t\"$18; \\\n",
    "            next}; \\\n",
    "        split(pair[$5$13],current_pair,\"\\t\"); \\\n",
    "        if($14>current_pair[$14]){ \\\n",
    "            pair[$5$13]=$1\"\\t\"start[$13]\"\\t\"end[$13]\"\\t\"$1\"\\t\"$2\"\\t\"$3\"\\t\"$13\":\"$5\"\\t\"$14\"\\t\"$15\"\\t\"$16\"\\t\"$2\"\\t\"$19\"\\t\"$17\"\\t\"$18; \\\n",
    "        }} \\\n",
    "    END{for(u in pair){ \\\n",
    "        print pair[u] \\\n",
    "        }}' $V1 $V2 | bedtools sort -i stdin > $V3\n",
    "fi"
   ]
  },
  {
   "cell_type": "markdown",
   "metadata": {},
   "source": [
    "### Intersection between ABC predictions / BENGI"
   ]
  },
  {
   "cell_type": "markdown",
   "metadata": {},
   "source": [
    "#### Import files"
   ]
  },
  {
   "cell_type": "code",
   "execution_count": 27,
   "metadata": {},
   "outputs": [],
   "source": [
    "import pandas as pd"
   ]
  },
  {
   "cell_type": "code",
   "execution_count": 28,
   "metadata": {},
   "outputs": [],
   "source": [
    "col_names = [\"chr1\", \"start1\", \"end1\", \"chr2\", \"start2\", \"end2\", \"name\", \"is.positive\", \"strand1\", \"strand2\", \"TSSs\"] # column names in bedpe benchmarks\n",
    "col_names_abc = [\"chr1\", \"start1\", \"end1\", \"chr2\", \"start2\", \"end2\", \"name\", \"score\", \"strand1\", \"strand2\", \"TSS\", \"overlap\", \"is.expressed\", \"expression\"] # column names in abc bedpe\n",
    "benchmarks = {}\n",
    "for k in range(nb_benchmarks):\n",
    "    benchmarks[names[k]] = pd.read_csv(files_dict[names[k]], sep='\\t', header=None, usecols=[0, 1, 2, 4, 5, 6, 7, 10], names=col_names, dtype='str', engine='c')\n",
    "\n",
    "abc = pd.read_csv(all_predictions_ccre_els_bedpe, sep='\\t', header=None, usecols=[0, 1, 2, 4, 5, 6, 7, 10, 11], names=col_names_abc, dtype='str', engine='c')"
   ]
  },
  {
   "cell_type": "code",
   "execution_count": 29,
   "metadata": {},
   "outputs": [],
   "source": [
    "intersection = {}\n",
    "for k in range(nb_benchmarks):\n",
    "    intersection[names[k]] = benchmarks[names[k]].copy().merge(abc.iloc[:,[5,6,8]], how='inner', left_on=col_names[6], right_on=col_names_abc[6])\n",
    "    \n",
    "col_summary = ['ABC.length', 'BENGI.length', 'intersection.length', 'intersection.length (%)', 'BENGI.positives', 'intersection.positives', 'intersection.positives (%)']\n",
    "summary = pd.DataFrame(columns=col_summary)\n",
    "for k in range(nb_benchmarks):\n",
    "    len_abc = len(abc)\n",
    "    len_bengi = len(benchmarks[names[k]])\n",
    "    len_inter = len(intersection[names[k]])\n",
    "    ratio = len_inter/len_bengi*100\n",
    "    bengi_positives = sum(benchmarks[names[k]][col_names[7]] == \"1\")\n",
    "    inter_positives = sum(intersection[names[k]][col_names[7]] == \"1\")\n",
    "    ratio_positives = inter_positives/bengi_positives*100\n",
    "    summary = summary.append(pd.DataFrame([[len_abc, len_bengi, len_inter, ratio, bengi_positives, inter_positives, ratio_positives]], columns=col_summary), ignore_index=True)\n",
    "summary.index = names"
   ]
  },
  {
   "cell_type": "code",
   "execution_count": 30,
   "metadata": {},
   "outputs": [
    {
     "data": {
      "text/html": [
       "<div>\n",
       "<style scoped>\n",
       "    .dataframe tbody tr th:only-of-type {\n",
       "        vertical-align: middle;\n",
       "    }\n",
       "\n",
       "    .dataframe tbody tr th {\n",
       "        vertical-align: top;\n",
       "    }\n",
       "\n",
       "    .dataframe thead th {\n",
       "        text-align: right;\n",
       "    }\n",
       "</style>\n",
       "<table border=\"1\" class=\"dataframe\">\n",
       "  <thead>\n",
       "    <tr style=\"text-align: right;\">\n",
       "      <th></th>\n",
       "      <th>ABC.length</th>\n",
       "      <th>BENGI.length</th>\n",
       "      <th>intersection.length</th>\n",
       "      <th>intersection.length (%)</th>\n",
       "      <th>BENGI.positives</th>\n",
       "      <th>intersection.positives</th>\n",
       "      <th>intersection.positives (%)</th>\n",
       "    </tr>\n",
       "  </thead>\n",
       "  <tbody>\n",
       "    <tr>\n",
       "      <th>CHiC</th>\n",
       "      <td>1828627</td>\n",
       "      <td>375728</td>\n",
       "      <td>118550</td>\n",
       "      <td>31.552080</td>\n",
       "      <td>88245</td>\n",
       "      <td>28194</td>\n",
       "      <td>31.949686</td>\n",
       "    </tr>\n",
       "    <tr>\n",
       "      <th>CTCF</th>\n",
       "      <td>1828627</td>\n",
       "      <td>105016</td>\n",
       "      <td>32037</td>\n",
       "      <td>30.506780</td>\n",
       "      <td>7591</td>\n",
       "      <td>2222</td>\n",
       "      <td>29.271506</td>\n",
       "    </tr>\n",
       "    <tr>\n",
       "      <th>GEUVADIS</th>\n",
       "      <td>1828627</td>\n",
       "      <td>50999</td>\n",
       "      <td>17452</td>\n",
       "      <td>34.220279</td>\n",
       "      <td>2073</td>\n",
       "      <td>779</td>\n",
       "      <td>37.578389</td>\n",
       "    </tr>\n",
       "    <tr>\n",
       "      <th>GTEx</th>\n",
       "      <td>1828627</td>\n",
       "      <td>38200</td>\n",
       "      <td>14224</td>\n",
       "      <td>37.235602</td>\n",
       "      <td>1301</td>\n",
       "      <td>546</td>\n",
       "      <td>41.967717</td>\n",
       "    </tr>\n",
       "    <tr>\n",
       "      <th>HiC</th>\n",
       "      <td>1828627</td>\n",
       "      <td>153739</td>\n",
       "      <td>50071</td>\n",
       "      <td>32.568834</td>\n",
       "      <td>3404</td>\n",
       "      <td>1123</td>\n",
       "      <td>32.990599</td>\n",
       "    </tr>\n",
       "    <tr>\n",
       "      <th>RNAPII</th>\n",
       "      <td>1828627</td>\n",
       "      <td>157235</td>\n",
       "      <td>52821</td>\n",
       "      <td>33.593666</td>\n",
       "      <td>23699</td>\n",
       "      <td>8300</td>\n",
       "      <td>35.022575</td>\n",
       "    </tr>\n",
       "  </tbody>\n",
       "</table>\n",
       "</div>"
      ],
      "text/plain": [
       "         ABC.length BENGI.length intersection.length  intersection.length (%)  \\\n",
       "CHiC        1828627       375728              118550                31.552080   \n",
       "CTCF        1828627       105016               32037                30.506780   \n",
       "GEUVADIS    1828627        50999               17452                34.220279   \n",
       "GTEx        1828627        38200               14224                37.235602   \n",
       "HiC         1828627       153739               50071                32.568834   \n",
       "RNAPII      1828627       157235               52821                33.593666   \n",
       "\n",
       "         BENGI.positives intersection.positives  intersection.positives (%)  \n",
       "CHiC               88245                  28194                   31.949686  \n",
       "CTCF                7591                   2222                   29.271506  \n",
       "GEUVADIS            2073                    779                   37.578389  \n",
       "GTEx                1301                    546                   41.967717  \n",
       "HiC                 3404                   1123                   32.990599  \n",
       "RNAPII             23699                   8300                   35.022575  "
      ]
     },
     "execution_count": 30,
     "metadata": {},
     "output_type": "execute_result"
    }
   ],
   "source": [
    "summary"
   ]
  },
  {
   "cell_type": "markdown",
   "metadata": {},
   "source": [
    "#### Export files"
   ]
  },
  {
   "cell_type": "code",
   "execution_count": 31,
   "metadata": {},
   "outputs": [],
   "source": [
    "if not os.path.isdir(predictions+\"BENGI_intersect/\"):\n",
    "    !mkdir $predictions\"BENGI_intersect/\"\n",
    "for k in range(nb_benchmarks):\n",
    "    intersection[names[k]].drop(intersection[names[1]].columns[-1], axis=1).to_csv(predictions+\"BENGI_intersect/AllPredictions.intersect.\"+file_names[k]+\".bedpe\",sep='\\t',header=False,index=False)"
   ]
  }
 ],
 "metadata": {
  "kernelspec": {
   "display_name": "Python 3",
   "language": "python",
   "name": "python3"
  },
  "language_info": {
   "codemirror_mode": {
    "name": "ipython",
    "version": 3
   },
   "file_extension": ".py",
   "mimetype": "text/x-python",
   "name": "python",
   "nbconvert_exporter": "python",
   "pygments_lexer": "ipython3",
   "version": "3.6.5"
  }
 },
 "nbformat": 4,
 "nbformat_minor": 2
}
